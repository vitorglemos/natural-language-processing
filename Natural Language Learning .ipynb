{
 "cells": [
  {
   "cell_type": "markdown",
   "metadata": {},
   "source": [
    "Using spaCY"
   ]
  },
  {
   "cell_type": "code",
   "execution_count": 1,
   "metadata": {},
   "outputs": [
    {
     "name": "stdout",
     "output_type": "stream",
     "text": [
      "Defaulting to user installation because normal site-packages is not writeable\n",
      "Collecting spacy\n",
      "  Downloading spacy-2.3.2-cp38-cp38-manylinux1_x86_64.whl (9.8 MB)\n",
      "\u001b[K     |████████████████████████████████| 9.8 MB 5.4 MB/s eta 0:00:01\n",
      "\u001b[?25hCollecting wasabi<1.1.0,>=0.4.0\n",
      "  Downloading wasabi-0.8.0-py3-none-any.whl (23 kB)\n",
      "Collecting cymem<2.1.0,>=2.0.2\n",
      "  Downloading cymem-2.0.3-cp38-cp38-manylinux1_x86_64.whl (33 kB)\n",
      "Requirement already satisfied, skipping upgrade: numpy>=1.15.0 in /home/vitor/.local/lib/python3.8/site-packages (from spacy) (1.18.4)\n",
      "Requirement already satisfied, skipping upgrade: tqdm<5.0.0,>=4.38.0 in /home/vitor/.local/lib/python3.8/site-packages (from spacy) (4.46.0)\n",
      "Collecting murmurhash<1.1.0,>=0.28.0\n",
      "  Downloading murmurhash-1.0.2-cp38-cp38-manylinux1_x86_64.whl (19 kB)\n",
      "Requirement already satisfied, skipping upgrade: requests<3.0.0,>=2.13.0 in /usr/lib/python3/dist-packages (from spacy) (2.22.0)\n",
      "Collecting catalogue<1.1.0,>=0.0.7\n",
      "  Downloading catalogue-1.0.0-py2.py3-none-any.whl (7.7 kB)\n",
      "Collecting preshed<3.1.0,>=3.0.2\n",
      "  Downloading preshed-3.0.2-cp38-cp38-manylinux1_x86_64.whl (118 kB)\n",
      "\u001b[K     |████████████████████████████████| 118 kB 10.2 MB/s eta 0:00:01\n",
      "\u001b[?25hCollecting srsly<1.1.0,>=1.0.2\n",
      "  Downloading srsly-1.0.2-cp38-cp38-manylinux1_x86_64.whl (185 kB)\n",
      "\u001b[K     |████████████████████████████████| 185 kB 14.5 MB/s eta 0:00:01\n",
      "\u001b[?25hCollecting blis<0.5.0,>=0.4.0\n",
      "  Downloading blis-0.4.1-cp38-cp38-manylinux1_x86_64.whl (3.7 MB)\n",
      "\u001b[K     |████████████████████████████████| 3.7 MB 12.3 MB/s eta 0:00:01\n",
      "\u001b[?25hCollecting plac<1.2.0,>=0.9.6\n",
      "  Downloading plac-1.1.3-py2.py3-none-any.whl (20 kB)\n",
      "Collecting thinc==7.4.1\n",
      "  Downloading thinc-7.4.1-cp38-cp38-manylinux1_x86_64.whl (2.1 MB)\n",
      "\u001b[K     |████████████████████████████████| 2.1 MB 5.9 MB/s eta 0:00:01\n",
      "\u001b[?25hRequirement already satisfied, skipping upgrade: setuptools in /home/vitor/.local/lib/python3.8/site-packages (from spacy) (46.4.0)\n",
      "Installing collected packages: wasabi, cymem, murmurhash, catalogue, preshed, srsly, blis, plac, thinc, spacy\n",
      "Successfully installed blis-0.4.1 catalogue-1.0.0 cymem-2.0.3 murmurhash-1.0.2 plac-1.1.3 preshed-3.0.2 spacy-2.3.2 srsly-1.0.2 thinc-7.4.1 wasabi-0.8.0\n",
      "\u001b[33mWARNING: You are using pip version 20.2.1; however, version 20.2.3 is available.\n",
      "You should consider upgrading via the '/usr/bin/python3 -m pip install --upgrade pip' command.\u001b[0m\n"
     ]
    }
   ],
   "source": [
    "!pip install spacy --upgrade"
   ]
  },
  {
   "cell_type": "code",
   "execution_count": 2,
   "metadata": {},
   "outputs": [],
   "source": [
    "import spacy"
   ]
  },
  {
   "cell_type": "code",
   "execution_count": 3,
   "metadata": {},
   "outputs": [
    {
     "data": {
      "text/plain": [
       "'2.3.2'"
      ]
     },
     "execution_count": 3,
     "metadata": {},
     "output_type": "execute_result"
    }
   ],
   "source": [
    "spacy.__version__"
   ]
  },
  {
   "cell_type": "code",
   "execution_count": 6,
   "metadata": {},
   "outputs": [
    {
     "name": "stdout",
     "output_type": "stream",
     "text": [
      "Defaulting to user installation because normal site-packages is not writeable\n",
      "Collecting pt_core_news_sm==2.3.0\n",
      "  Downloading https://github.com/explosion/spacy-models/releases/download/pt_core_news_sm-2.3.0/pt_core_news_sm-2.3.0.tar.gz (19.6 MB)\n",
      "\u001b[K     |████████████████████████████████| 19.6 MB 7.1 MB/s eta 0:00:01    |███████                         | 4.2 MB 4.4 MB/s eta 0:00:04\n",
      "\u001b[?25hRequirement already satisfied: spacy<2.4.0,>=2.3.0 in /home/vitor/.local/lib/python3.8/site-packages (from pt_core_news_sm==2.3.0) (2.3.2)\n",
      "Requirement already satisfied: cymem<2.1.0,>=2.0.2 in /home/vitor/.local/lib/python3.8/site-packages (from spacy<2.4.0,>=2.3.0->pt_core_news_sm==2.3.0) (2.0.3)\n",
      "Requirement already satisfied: wasabi<1.1.0,>=0.4.0 in /home/vitor/.local/lib/python3.8/site-packages (from spacy<2.4.0,>=2.3.0->pt_core_news_sm==2.3.0) (0.8.0)\n",
      "Requirement already satisfied: numpy>=1.15.0 in /home/vitor/.local/lib/python3.8/site-packages (from spacy<2.4.0,>=2.3.0->pt_core_news_sm==2.3.0) (1.18.4)\n",
      "Requirement already satisfied: catalogue<1.1.0,>=0.0.7 in /home/vitor/.local/lib/python3.8/site-packages (from spacy<2.4.0,>=2.3.0->pt_core_news_sm==2.3.0) (1.0.0)\n",
      "Requirement already satisfied: murmurhash<1.1.0,>=0.28.0 in /home/vitor/.local/lib/python3.8/site-packages (from spacy<2.4.0,>=2.3.0->pt_core_news_sm==2.3.0) (1.0.2)\n",
      "Requirement already satisfied: srsly<1.1.0,>=1.0.2 in /home/vitor/.local/lib/python3.8/site-packages (from spacy<2.4.0,>=2.3.0->pt_core_news_sm==2.3.0) (1.0.2)\n",
      "Requirement already satisfied: requests<3.0.0,>=2.13.0 in /usr/lib/python3/dist-packages (from spacy<2.4.0,>=2.3.0->pt_core_news_sm==2.3.0) (2.22.0)\n",
      "Requirement already satisfied: preshed<3.1.0,>=3.0.2 in /home/vitor/.local/lib/python3.8/site-packages (from spacy<2.4.0,>=2.3.0->pt_core_news_sm==2.3.0) (3.0.2)\n",
      "Requirement already satisfied: tqdm<5.0.0,>=4.38.0 in /home/vitor/.local/lib/python3.8/site-packages (from spacy<2.4.0,>=2.3.0->pt_core_news_sm==2.3.0) (4.46.0)\n",
      "Requirement already satisfied: plac<1.2.0,>=0.9.6 in /home/vitor/.local/lib/python3.8/site-packages (from spacy<2.4.0,>=2.3.0->pt_core_news_sm==2.3.0) (1.1.3)\n",
      "Requirement already satisfied: blis<0.5.0,>=0.4.0 in /home/vitor/.local/lib/python3.8/site-packages (from spacy<2.4.0,>=2.3.0->pt_core_news_sm==2.3.0) (0.4.1)\n",
      "Requirement already satisfied: setuptools in /home/vitor/.local/lib/python3.8/site-packages (from spacy<2.4.0,>=2.3.0->pt_core_news_sm==2.3.0) (46.4.0)\n",
      "Requirement already satisfied: thinc==7.4.1 in /home/vitor/.local/lib/python3.8/site-packages (from spacy<2.4.0,>=2.3.0->pt_core_news_sm==2.3.0) (7.4.1)\n",
      "Building wheels for collected packages: pt-core-news-sm\n",
      "  Building wheel for pt-core-news-sm (setup.py) ... \u001b[?25ldone\n",
      "\u001b[?25h  Created wheel for pt-core-news-sm: filename=pt_core_news_sm-2.3.0-py3-none-any.whl size=19557496 sha256=155cac600ee0f456ed2dfa3f0b4397860729f186cf393ddb505b9a898ed960e9\n",
      "  Stored in directory: /tmp/pip-ephem-wheel-cache-3rnpzvc9/wheels/e0/3e/3e/40c6859f75a1edc813ae7413575b42fe2f43f3a4b5f946f8ef\n",
      "Successfully built pt-core-news-sm\n",
      "Installing collected packages: pt-core-news-sm\n",
      "Successfully installed pt-core-news-sm-2.3.0\n",
      "\u001b[33mWARNING: You are using pip version 20.2.1; however, version 20.2.3 is available.\n",
      "You should consider upgrading via the '/usr/bin/python3 -m pip install --upgrade pip' command.\u001b[0m\n",
      "\u001b[38;5;2m✔ Download and installation successful\u001b[0m\n",
      "You can now load the model via spacy.load('pt_core_news_sm')\n",
      "\u001b[38;5;2m✔ Linking successful\u001b[0m\n",
      "/home/vitor/.local/lib/python3.8/site-packages/pt_core_news_sm -->\n",
      "/home/vitor/.local/lib/python3.8/site-packages/spacy/data/pt\n",
      "You can now load the model via spacy.load('pt')\n"
     ]
    }
   ],
   "source": [
    "!python3 -m spacy download pt"
   ]
  },
  {
   "cell_type": "markdown",
   "metadata": {},
   "source": [
    "## PARTES DA FALA (POS)"
   ]
  },
  {
   "cell_type": "code",
   "execution_count": 7,
   "metadata": {},
   "outputs": [],
   "source": [
    "pln = spacy.load('pt')"
   ]
  },
  {
   "cell_type": "code",
   "execution_count": 8,
   "metadata": {},
   "outputs": [
    {
     "data": {
      "text/plain": [
       "<spacy.lang.pt.Portuguese at 0x7f66640accd0>"
      ]
     },
     "execution_count": 8,
     "metadata": {},
     "output_type": "execute_result"
    }
   ],
   "source": [
    "pln"
   ]
  },
  {
   "cell_type": "code",
   "execution_count": 11,
   "metadata": {},
   "outputs": [],
   "source": [
    "document = pln('Testando como funciona a linguagem natural')"
   ]
  },
  {
   "cell_type": "code",
   "execution_count": 13,
   "metadata": {},
   "outputs": [
    {
     "name": "stdout",
     "output_type": "stream",
     "text": [
      "Testando VERB\n",
      "como SCONJ\n",
      "funciona VERB\n",
      "a DET\n",
      "linguagem NOUN\n",
      "natural ADJ\n"
     ]
    }
   ],
   "source": [
    "for token in document:\n",
    "    print(token.text, token.pos_)"
   ]
  },
  {
   "cell_type": "markdown",
   "metadata": {},
   "source": [
    "- .lemma_: raiz da palavra\n",
    "- .pos_: parte da fala\n",
    "- .tags_: informação morfologica\n",
    "- .dep_: dependencia sintática\n",
    "- .shape_: formato(maiusculo, minusculo, digito)\n",
    "- .is_alpha: se é alfabetico\n",
    "- .is_stop: se é stopword"
   ]
  },
  {
   "cell_type": "code",
   "execution_count": 20,
   "metadata": {},
   "outputs": [
    {
     "name": "stdout",
     "output_type": "stream",
     "text": [
      "**> Testando Testando VERB VERB__VerbForm=Ger ROOT Xxxxx True False\n",
      "**> como comer SCONJ SCONJ mark xxxx True True\n",
      "**> funciona funcionar VERB VERB__Mood=Ind|Number=Sing|Person=3|Tense=Pres|VerbForm=Fin xcomp xxxx True False\n",
      "**> a o DET DET__Definite=Def|Gender=Fem|Number=Sing|PronType=Art det x True False\n",
      "**> linguagem linguagem NOUN NOUN__Gender=Fem|Number=Sing obj xxxx True False\n",
      "**> natural natural ADJ ADJ__Gender=Fem|Number=Sing amod xxxx True False\n"
     ]
    }
   ],
   "source": [
    "for token in document:\n",
    "    print('**>', token.text, token.lemma_, token.pos_, token.tag_, token.dep_, token.shape_, \n",
    "          token.is_alpha, token.is_stop)"
   ]
  },
  {
   "cell_type": "markdown",
   "metadata": {},
   "source": [
    " - Lematização: significado (lema de aprendizado é aprender)\n",
    " - Stematização: extrair radical palavra"
   ]
  },
  {
   "cell_type": "code",
   "execution_count": 21,
   "metadata": {},
   "outputs": [
    {
     "name": "stdout",
     "output_type": "stream",
     "text": [
      "Testando Testando\n",
      "como comer\n",
      "funciona funcionar\n",
      "a o\n",
      "linguagem linguagem\n",
      "natural natural\n"
     ]
    }
   ],
   "source": [
    "for token in document:\n",
    "    print(token.text, token.lemma_)"
   ]
  },
  {
   "cell_type": "code",
   "execution_count": 22,
   "metadata": {},
   "outputs": [],
   "source": [
    "import nltk"
   ]
  },
  {
   "cell_type": "code",
   "execution_count": 23,
   "metadata": {},
   "outputs": [
    {
     "name": "stderr",
     "output_type": "stream",
     "text": [
      "[nltk_data] Downloading package rslp to /home/vitor/nltk_data...\n",
      "[nltk_data]   Package rslp is already up-to-date!\n"
     ]
    },
    {
     "data": {
      "text/plain": [
       "True"
      ]
     },
     "execution_count": 23,
     "metadata": {},
     "output_type": "execute_result"
    }
   ],
   "source": [
    "nltk.download('rslp')"
   ]
  },
  {
   "cell_type": "code",
   "execution_count": 25,
   "metadata": {},
   "outputs": [],
   "source": [
    "stemmer = nltk.stem.RSLPStemmer()"
   ]
  },
  {
   "cell_type": "code",
   "execution_count": 26,
   "metadata": {},
   "outputs": [
    {
     "data": {
      "text/plain": [
       "'aprend'"
      ]
     },
     "execution_count": 26,
     "metadata": {},
     "output_type": "execute_result"
    }
   ],
   "source": [
    "stemmer.stem('Aprender')"
   ]
  },
  {
   "cell_type": "code",
   "execution_count": 27,
   "metadata": {},
   "outputs": [
    {
     "name": "stdout",
     "output_type": "stream",
     "text": [
      "Testando test\n",
      "como com\n",
      "funciona func\n",
      "a a\n",
      "linguagem lingu\n",
      "natural natur\n"
     ]
    }
   ],
   "source": [
    "for token in document:\n",
    "    print(token.text, stemmer.stem(token.text))"
   ]
  },
  {
   "cell_type": "code",
   "execution_count": 28,
   "metadata": {},
   "outputs": [],
   "source": [
    "document = pln('Vamos para os Estados Unidos hoje. Felipe irá comigo de Boeing')"
   ]
  },
  {
   "cell_type": "code",
   "execution_count": 30,
   "metadata": {},
   "outputs": [
    {
     "name": "stdout",
     "output_type": "stream",
     "text": [
      "Estados Unidos LOC\n",
      "Felipe PER\n",
      "Boeing ORG\n"
     ]
    }
   ],
   "source": [
    "for entity in document.ents:\n",
    "    print(entity.text, entity.label_)"
   ]
  },
  {
   "cell_type": "code",
   "execution_count": 31,
   "metadata": {},
   "outputs": [
    {
     "data": {
      "text/html": [
       "<span class=\"tex2jax_ignore\"><div class=\"entities\" style=\"line-height: 2.5; direction: ltr\">Vamos para os \n",
       "<mark class=\"entity\" style=\"background: #ff9561; padding: 0.45em 0.6em; margin: 0 0.25em; line-height: 1; border-radius: 0.35em;\">\n",
       "    Estados Unidos\n",
       "    <span style=\"font-size: 0.8em; font-weight: bold; line-height: 1; border-radius: 0.35em; text-transform: uppercase; vertical-align: middle; margin-left: 0.5rem\">LOC</span>\n",
       "</mark>\n",
       " hoje. \n",
       "<mark class=\"entity\" style=\"background: #ddd; padding: 0.45em 0.6em; margin: 0 0.25em; line-height: 1; border-radius: 0.35em;\">\n",
       "    Felipe\n",
       "    <span style=\"font-size: 0.8em; font-weight: bold; line-height: 1; border-radius: 0.35em; text-transform: uppercase; vertical-align: middle; margin-left: 0.5rem\">PER</span>\n",
       "</mark>\n",
       " irá comigo de \n",
       "<mark class=\"entity\" style=\"background: #7aecec; padding: 0.45em 0.6em; margin: 0 0.25em; line-height: 1; border-radius: 0.35em;\">\n",
       "    Boeing\n",
       "    <span style=\"font-size: 0.8em; font-weight: bold; line-height: 1; border-radius: 0.35em; text-transform: uppercase; vertical-align: middle; margin-left: 0.5rem\">ORG</span>\n",
       "</mark>\n",
       "</div></span>"
      ],
      "text/plain": [
       "<IPython.core.display.HTML object>"
      ]
     },
     "metadata": {},
     "output_type": "display_data"
    }
   ],
   "source": [
    "from spacy import displacy\n",
    "displacy.render(document, style='ent', jupyter=True)"
   ]
  },
  {
   "cell_type": "markdown",
   "metadata": {},
   "source": [
    "### StopWords: palavras que aparecem com muita frequencia"
   ]
  },
  {
   "cell_type": "code",
   "execution_count": 32,
   "metadata": {},
   "outputs": [],
   "source": [
    "from spacy.lang.pt.stop_words import STOP_WORDS"
   ]
  },
  {
   "cell_type": "code",
   "execution_count": 33,
   "metadata": {},
   "outputs": [
    {
     "data": {
      "text/plain": [
       "{'acerca',\n",
       " 'ademais',\n",
       " 'adeus',\n",
       " 'agora',\n",
       " 'ainda',\n",
       " 'algo',\n",
       " 'algumas',\n",
       " 'alguns',\n",
       " 'ali',\n",
       " 'além',\n",
       " 'ambas',\n",
       " 'ambos',\n",
       " 'antes',\n",
       " 'ao',\n",
       " 'aos',\n",
       " 'apenas',\n",
       " 'apoia',\n",
       " 'apoio',\n",
       " 'apontar',\n",
       " 'após',\n",
       " 'aquela',\n",
       " 'aquelas',\n",
       " 'aquele',\n",
       " 'aqueles',\n",
       " 'aqui',\n",
       " 'aquilo',\n",
       " 'as',\n",
       " 'assim',\n",
       " 'através',\n",
       " 'atrás',\n",
       " 'até',\n",
       " 'aí',\n",
       " 'baixo',\n",
       " 'bastante',\n",
       " 'bem',\n",
       " 'boa',\n",
       " 'bom',\n",
       " 'breve',\n",
       " 'cada',\n",
       " 'caminho',\n",
       " 'catorze',\n",
       " 'cedo',\n",
       " 'cento',\n",
       " 'certamente',\n",
       " 'certeza',\n",
       " 'cima',\n",
       " 'cinco',\n",
       " 'coisa',\n",
       " 'com',\n",
       " 'como',\n",
       " 'comprida',\n",
       " 'comprido',\n",
       " 'conhecida',\n",
       " 'conhecido',\n",
       " 'conselho',\n",
       " 'contra',\n",
       " 'contudo',\n",
       " 'corrente',\n",
       " 'cuja',\n",
       " 'cujo',\n",
       " 'custa',\n",
       " 'cá',\n",
       " 'da',\n",
       " 'daquela',\n",
       " 'daquele',\n",
       " 'dar',\n",
       " 'das',\n",
       " 'de',\n",
       " 'debaixo',\n",
       " 'demais',\n",
       " 'dentro',\n",
       " 'depois',\n",
       " 'des',\n",
       " 'desde',\n",
       " 'dessa',\n",
       " 'desse',\n",
       " 'desta',\n",
       " 'deste',\n",
       " 'deve',\n",
       " 'devem',\n",
       " 'deverá',\n",
       " 'dez',\n",
       " 'dezanove',\n",
       " 'dezasseis',\n",
       " 'dezassete',\n",
       " 'dezoito',\n",
       " 'diante',\n",
       " 'direita',\n",
       " 'disso',\n",
       " 'diz',\n",
       " 'dizem',\n",
       " 'dizer',\n",
       " 'do',\n",
       " 'dois',\n",
       " 'dos',\n",
       " 'doze',\n",
       " 'duas',\n",
       " 'dá',\n",
       " 'dão',\n",
       " 'ela',\n",
       " 'elas',\n",
       " 'ele',\n",
       " 'eles',\n",
       " 'em',\n",
       " 'embora',\n",
       " 'enquanto',\n",
       " 'entre',\n",
       " 'então',\n",
       " 'era',\n",
       " 'essa',\n",
       " 'essas',\n",
       " 'esse',\n",
       " 'esses',\n",
       " 'esta',\n",
       " 'estado',\n",
       " 'estar',\n",
       " 'estará',\n",
       " 'estas',\n",
       " 'estava',\n",
       " 'este',\n",
       " 'estes',\n",
       " 'esteve',\n",
       " 'estive',\n",
       " 'estivemos',\n",
       " 'estiveram',\n",
       " 'estiveste',\n",
       " 'estivestes',\n",
       " 'estou',\n",
       " 'está',\n",
       " 'estás',\n",
       " 'estão',\n",
       " 'eu',\n",
       " 'eventual',\n",
       " 'exemplo',\n",
       " 'falta',\n",
       " 'fará',\n",
       " 'favor',\n",
       " 'faz',\n",
       " 'fazeis',\n",
       " 'fazem',\n",
       " 'fazemos',\n",
       " 'fazer',\n",
       " 'fazes',\n",
       " 'fazia',\n",
       " 'faço',\n",
       " 'fez',\n",
       " 'fim',\n",
       " 'final',\n",
       " 'foi',\n",
       " 'fomos',\n",
       " 'for',\n",
       " 'fora',\n",
       " 'foram',\n",
       " 'forma',\n",
       " 'foste',\n",
       " 'fostes',\n",
       " 'fui',\n",
       " 'geral',\n",
       " 'grande',\n",
       " 'grandes',\n",
       " 'grupo',\n",
       " 'inclusive',\n",
       " 'iniciar',\n",
       " 'inicio',\n",
       " 'ir',\n",
       " 'irá',\n",
       " 'isso',\n",
       " 'isto',\n",
       " 'já',\n",
       " 'lado',\n",
       " 'lhe',\n",
       " 'ligado',\n",
       " 'local',\n",
       " 'logo',\n",
       " 'longe',\n",
       " 'lugar',\n",
       " 'lá',\n",
       " 'maior',\n",
       " 'maioria',\n",
       " 'maiorias',\n",
       " 'mais',\n",
       " 'mal',\n",
       " 'mas',\n",
       " 'me',\n",
       " 'meio',\n",
       " 'menor',\n",
       " 'menos',\n",
       " 'meses',\n",
       " 'mesmo',\n",
       " 'meu',\n",
       " 'meus',\n",
       " 'mil',\n",
       " 'minha',\n",
       " 'minhas',\n",
       " 'momento',\n",
       " 'muito',\n",
       " 'muitos',\n",
       " 'máximo',\n",
       " 'mês',\n",
       " 'na',\n",
       " 'nada',\n",
       " 'naquela',\n",
       " 'naquele',\n",
       " 'nas',\n",
       " 'nem',\n",
       " 'nenhuma',\n",
       " 'nessa',\n",
       " 'nesse',\n",
       " 'nesta',\n",
       " 'neste',\n",
       " 'no',\n",
       " 'nos',\n",
       " 'nossa',\n",
       " 'nossas',\n",
       " 'nosso',\n",
       " 'nossos',\n",
       " 'nova',\n",
       " 'novas',\n",
       " 'nove',\n",
       " 'novo',\n",
       " 'novos',\n",
       " 'num',\n",
       " 'numa',\n",
       " 'nunca',\n",
       " 'nuns',\n",
       " 'não',\n",
       " 'nível',\n",
       " 'nós',\n",
       " 'número',\n",
       " 'números',\n",
       " 'obrigada',\n",
       " 'obrigado',\n",
       " 'oitava',\n",
       " 'oitavo',\n",
       " 'oito',\n",
       " 'onde',\n",
       " 'ontem',\n",
       " 'onze',\n",
       " 'ora',\n",
       " 'os',\n",
       " 'ou',\n",
       " 'outra',\n",
       " 'outras',\n",
       " 'outros',\n",
       " 'para',\n",
       " 'parece',\n",
       " 'parte',\n",
       " 'partir',\n",
       " 'pegar',\n",
       " 'pela',\n",
       " 'pelas',\n",
       " 'pelo',\n",
       " 'pelos',\n",
       " 'perto',\n",
       " 'pode',\n",
       " 'podem',\n",
       " 'poder',\n",
       " 'poderá',\n",
       " 'podia',\n",
       " 'pois',\n",
       " 'ponto',\n",
       " 'pontos',\n",
       " 'por',\n",
       " 'porquanto',\n",
       " 'porque',\n",
       " 'porquê',\n",
       " 'portanto',\n",
       " 'porém',\n",
       " 'posição',\n",
       " 'possivelmente',\n",
       " 'posso',\n",
       " 'possível',\n",
       " 'pouca',\n",
       " 'pouco',\n",
       " 'povo',\n",
       " 'primeira',\n",
       " 'primeiro',\n",
       " 'próprio',\n",
       " 'próxima',\n",
       " 'próximo',\n",
       " 'puderam',\n",
       " 'pôde',\n",
       " 'põe',\n",
       " 'põem',\n",
       " 'quais',\n",
       " 'qual',\n",
       " 'qualquer',\n",
       " 'quando',\n",
       " 'quanto',\n",
       " 'quarta',\n",
       " 'quarto',\n",
       " 'quatro',\n",
       " 'que',\n",
       " 'quem',\n",
       " 'quer',\n",
       " 'querem',\n",
       " 'quero',\n",
       " 'questão',\n",
       " 'quieta',\n",
       " 'quieto',\n",
       " 'quinta',\n",
       " 'quinto',\n",
       " 'quinze',\n",
       " 'quê',\n",
       " 'relação',\n",
       " 'sabe',\n",
       " 'saber',\n",
       " 'se',\n",
       " 'segunda',\n",
       " 'segundo',\n",
       " 'sei',\n",
       " 'seis',\n",
       " 'sem',\n",
       " 'sempre',\n",
       " 'ser',\n",
       " 'seria',\n",
       " 'sete',\n",
       " 'seu',\n",
       " 'seus',\n",
       " 'sexta',\n",
       " 'sexto',\n",
       " 'sim',\n",
       " 'sistema',\n",
       " 'sob',\n",
       " 'sobre',\n",
       " 'sois',\n",
       " 'somente',\n",
       " 'somos',\n",
       " 'sou',\n",
       " 'sua',\n",
       " 'suas',\n",
       " 'são',\n",
       " 'sétima',\n",
       " 'sétimo',\n",
       " 'só',\n",
       " 'tais',\n",
       " 'tal',\n",
       " 'talvez',\n",
       " 'também',\n",
       " 'tanta',\n",
       " 'tanto',\n",
       " 'tarde',\n",
       " 'te',\n",
       " 'tem',\n",
       " 'temos',\n",
       " 'tempo',\n",
       " 'tendes',\n",
       " 'tenho',\n",
       " 'tens',\n",
       " 'tentar',\n",
       " 'tentaram',\n",
       " 'tente',\n",
       " 'tentei',\n",
       " 'ter',\n",
       " 'terceira',\n",
       " 'terceiro',\n",
       " 'teu',\n",
       " 'teus',\n",
       " 'teve',\n",
       " 'tipo',\n",
       " 'tive',\n",
       " 'tivemos',\n",
       " 'tiveram',\n",
       " 'tiveste',\n",
       " 'tivestes',\n",
       " 'toda',\n",
       " 'todas',\n",
       " 'todo',\n",
       " 'todos',\n",
       " 'treze',\n",
       " 'três',\n",
       " 'tu',\n",
       " 'tua',\n",
       " 'tuas',\n",
       " 'tudo',\n",
       " 'tão',\n",
       " 'têm',\n",
       " 'um',\n",
       " 'uma',\n",
       " 'umas',\n",
       " 'uns',\n",
       " 'usa',\n",
       " 'usar',\n",
       " 'vai',\n",
       " 'vais',\n",
       " 'valor',\n",
       " 'veja',\n",
       " 'vem',\n",
       " 'vens',\n",
       " 'ver',\n",
       " 'vez',\n",
       " 'vezes',\n",
       " 'vinda',\n",
       " 'vindo',\n",
       " 'vinte',\n",
       " 'você',\n",
       " 'vocês',\n",
       " 'vos',\n",
       " 'vossa',\n",
       " 'vossas',\n",
       " 'vosso',\n",
       " 'vossos',\n",
       " 'vários',\n",
       " 'vão',\n",
       " 'vêm',\n",
       " 'vós',\n",
       " 'zero',\n",
       " 'à',\n",
       " 'às',\n",
       " 'área',\n",
       " 'é',\n",
       " 'és',\n",
       " 'último'}"
      ]
     },
     "execution_count": 33,
     "metadata": {},
     "output_type": "execute_result"
    }
   ],
   "source": [
    "STOP_WORDS"
   ]
  },
  {
   "cell_type": "code",
   "execution_count": 34,
   "metadata": {},
   "outputs": [
    {
     "data": {
      "text/plain": [
       "True"
      ]
     },
     "execution_count": 34,
     "metadata": {},
     "output_type": "execute_result"
    }
   ],
   "source": [
    "pln.vocab['ir'].is_stop"
   ]
  },
  {
   "cell_type": "code",
   "execution_count": 37,
   "metadata": {},
   "outputs": [
    {
     "data": {
      "text/plain": [
       "False"
      ]
     },
     "execution_count": 37,
     "metadata": {},
     "output_type": "execute_result"
    }
   ],
   "source": [
    "pln.vocab['caminhar'].is_stop"
   ]
  },
  {
   "cell_type": "code",
   "execution_count": 38,
   "metadata": {},
   "outputs": [
    {
     "name": "stdout",
     "output_type": "stream",
     "text": [
      "Vamos\n",
      "Estados\n",
      "Unidos\n",
      "hoje\n",
      ".\n",
      "Felipe\n",
      "comigo\n",
      "Boeing\n"
     ]
    }
   ],
   "source": [
    "for token in document:\n",
    "    if not pln.vocab[token.text].is_stop:\n",
    "        print(token.text)"
   ]
  },
  {
   "cell_type": "markdown",
   "metadata": {},
   "source": [
    "## Parsing de dependencias"
   ]
  },
  {
   "cell_type": "code",
   "execution_count": 39,
   "metadata": {},
   "outputs": [],
   "source": [
    "document = pln(\"Reserver uma passagem saindo de Guarulhos e chegando no Rio de Janeiro\")"
   ]
  },
  {
   "cell_type": "code",
   "execution_count": 42,
   "metadata": {},
   "outputs": [],
   "source": [
    "origem = document[5]\n",
    "destino = document[9]"
   ]
  },
  {
   "cell_type": "code",
   "execution_count": 43,
   "metadata": {},
   "outputs": [
    {
     "data": {
      "text/plain": [
       "(Guarulhos, Rio)"
      ]
     },
     "execution_count": 43,
     "metadata": {},
     "output_type": "execute_result"
    }
   ],
   "source": [
    "origem, destino"
   ]
  },
  {
   "cell_type": "code",
   "execution_count": 44,
   "metadata": {},
   "outputs": [
    {
     "data": {
      "text/plain": [
       "[saindo, passagem, Resever]"
      ]
     },
     "execution_count": 44,
     "metadata": {},
     "output_type": "execute_result"
    }
   ],
   "source": [
    "list(origem.ancestors)"
   ]
  },
  {
   "cell_type": "code",
   "execution_count": 45,
   "metadata": {},
   "outputs": [
    {
     "data": {
      "text/plain": [
       "[chegando, Resever]"
      ]
     },
     "execution_count": 45,
     "metadata": {},
     "output_type": "execute_result"
    }
   ],
   "source": [
    "list(destino.ancestors)"
   ]
  },
  {
   "cell_type": "code",
   "execution_count": 47,
   "metadata": {},
   "outputs": [
    {
     "data": {
      "text/plain": [
       "True"
      ]
     },
     "execution_count": 47,
     "metadata": {},
     "output_type": "execute_result"
    }
   ],
   "source": [
    "document[0].is_ancestor(document[2])"
   ]
  },
  {
   "cell_type": "code",
   "execution_count": 48,
   "metadata": {},
   "outputs": [],
   "source": [
    "document = pln(\"Reserve de uma mesa para o restaurante e de um taxi para o hotel\")"
   ]
  },
  {
   "cell_type": "code",
   "execution_count": 50,
   "metadata": {},
   "outputs": [
    {
     "data": {
      "text/html": [
       "<span class=\"tex2jax_ignore\"><svg xmlns=\"http://www.w3.org/2000/svg\" xmlns:xlink=\"http://www.w3.org/1999/xlink\" xml:lang=\"pt\" id=\"9717f912f7ae432e9eaef87dfbca1dec-0\" class=\"displacy\" width=\"1310\" height=\"317.0\" direction=\"ltr\" style=\"max-width: none; height: 317.0px; color: #000000; background: #ffffff; font-family: Arial; direction: ltr\">\n",
       "<text class=\"displacy-token\" fill=\"currentColor\" text-anchor=\"middle\" y=\"227.0\">\n",
       "    <tspan class=\"displacy-word\" fill=\"currentColor\" x=\"50\">Reserve</tspan>\n",
       "    <tspan class=\"displacy-tag\" dy=\"2em\" fill=\"currentColor\" x=\"50\">PROPN</tspan>\n",
       "</text>\n",
       "\n",
       "<text class=\"displacy-token\" fill=\"currentColor\" text-anchor=\"middle\" y=\"227.0\">\n",
       "    <tspan class=\"displacy-word\" fill=\"currentColor\" x=\"140\">de</tspan>\n",
       "    <tspan class=\"displacy-tag\" dy=\"2em\" fill=\"currentColor\" x=\"140\">ADP</tspan>\n",
       "</text>\n",
       "\n",
       "<text class=\"displacy-token\" fill=\"currentColor\" text-anchor=\"middle\" y=\"227.0\">\n",
       "    <tspan class=\"displacy-word\" fill=\"currentColor\" x=\"230\">uma</tspan>\n",
       "    <tspan class=\"displacy-tag\" dy=\"2em\" fill=\"currentColor\" x=\"230\">DET</tspan>\n",
       "</text>\n",
       "\n",
       "<text class=\"displacy-token\" fill=\"currentColor\" text-anchor=\"middle\" y=\"227.0\">\n",
       "    <tspan class=\"displacy-word\" fill=\"currentColor\" x=\"320\">mesa</tspan>\n",
       "    <tspan class=\"displacy-tag\" dy=\"2em\" fill=\"currentColor\" x=\"320\">NOUN</tspan>\n",
       "</text>\n",
       "\n",
       "<text class=\"displacy-token\" fill=\"currentColor\" text-anchor=\"middle\" y=\"227.0\">\n",
       "    <tspan class=\"displacy-word\" fill=\"currentColor\" x=\"410\">para</tspan>\n",
       "    <tspan class=\"displacy-tag\" dy=\"2em\" fill=\"currentColor\" x=\"410\">ADP</tspan>\n",
       "</text>\n",
       "\n",
       "<text class=\"displacy-token\" fill=\"currentColor\" text-anchor=\"middle\" y=\"227.0\">\n",
       "    <tspan class=\"displacy-word\" fill=\"currentColor\" x=\"500\">o</tspan>\n",
       "    <tspan class=\"displacy-tag\" dy=\"2em\" fill=\"currentColor\" x=\"500\">DET</tspan>\n",
       "</text>\n",
       "\n",
       "<text class=\"displacy-token\" fill=\"currentColor\" text-anchor=\"middle\" y=\"227.0\">\n",
       "    <tspan class=\"displacy-word\" fill=\"currentColor\" x=\"590\">restaurante</tspan>\n",
       "    <tspan class=\"displacy-tag\" dy=\"2em\" fill=\"currentColor\" x=\"590\">NOUN</tspan>\n",
       "</text>\n",
       "\n",
       "<text class=\"displacy-token\" fill=\"currentColor\" text-anchor=\"middle\" y=\"227.0\">\n",
       "    <tspan class=\"displacy-word\" fill=\"currentColor\" x=\"680\">e</tspan>\n",
       "    <tspan class=\"displacy-tag\" dy=\"2em\" fill=\"currentColor\" x=\"680\">CCONJ</tspan>\n",
       "</text>\n",
       "\n",
       "<text class=\"displacy-token\" fill=\"currentColor\" text-anchor=\"middle\" y=\"227.0\">\n",
       "    <tspan class=\"displacy-word\" fill=\"currentColor\" x=\"770\">de</tspan>\n",
       "    <tspan class=\"displacy-tag\" dy=\"2em\" fill=\"currentColor\" x=\"770\">ADP</tspan>\n",
       "</text>\n",
       "\n",
       "<text class=\"displacy-token\" fill=\"currentColor\" text-anchor=\"middle\" y=\"227.0\">\n",
       "    <tspan class=\"displacy-word\" fill=\"currentColor\" x=\"860\">um</tspan>\n",
       "    <tspan class=\"displacy-tag\" dy=\"2em\" fill=\"currentColor\" x=\"860\">DET</tspan>\n",
       "</text>\n",
       "\n",
       "<text class=\"displacy-token\" fill=\"currentColor\" text-anchor=\"middle\" y=\"227.0\">\n",
       "    <tspan class=\"displacy-word\" fill=\"currentColor\" x=\"950\">taxi</tspan>\n",
       "    <tspan class=\"displacy-tag\" dy=\"2em\" fill=\"currentColor\" x=\"950\">NOUN</tspan>\n",
       "</text>\n",
       "\n",
       "<text class=\"displacy-token\" fill=\"currentColor\" text-anchor=\"middle\" y=\"227.0\">\n",
       "    <tspan class=\"displacy-word\" fill=\"currentColor\" x=\"1040\">para</tspan>\n",
       "    <tspan class=\"displacy-tag\" dy=\"2em\" fill=\"currentColor\" x=\"1040\">ADP</tspan>\n",
       "</text>\n",
       "\n",
       "<text class=\"displacy-token\" fill=\"currentColor\" text-anchor=\"middle\" y=\"227.0\">\n",
       "    <tspan class=\"displacy-word\" fill=\"currentColor\" x=\"1130\">o</tspan>\n",
       "    <tspan class=\"displacy-tag\" dy=\"2em\" fill=\"currentColor\" x=\"1130\">DET</tspan>\n",
       "</text>\n",
       "\n",
       "<text class=\"displacy-token\" fill=\"currentColor\" text-anchor=\"middle\" y=\"227.0\">\n",
       "    <tspan class=\"displacy-word\" fill=\"currentColor\" x=\"1220\">hotel</tspan>\n",
       "    <tspan class=\"displacy-tag\" dy=\"2em\" fill=\"currentColor\" x=\"1220\">NOUN</tspan>\n",
       "</text>\n",
       "\n",
       "<g class=\"displacy-arrow\">\n",
       "    <path class=\"displacy-arc\" id=\"arrow-9717f912f7ae432e9eaef87dfbca1dec-0-0\" stroke-width=\"2px\" d=\"M160,182.0 C160,92.0 310.0,92.0 310.0,182.0\" fill=\"none\" stroke=\"currentColor\"/>\n",
       "    <text dy=\"1.25em\" style=\"font-size: 0.8em; letter-spacing: 1px\">\n",
       "        <textPath xlink:href=\"#arrow-9717f912f7ae432e9eaef87dfbca1dec-0-0\" class=\"displacy-label\" startOffset=\"50%\" side=\"left\" fill=\"currentColor\" text-anchor=\"middle\">case</textPath>\n",
       "    </text>\n",
       "    <path class=\"displacy-arrowhead\" d=\"M160,184.0 L152,172.0 168,172.0\" fill=\"currentColor\"/>\n",
       "</g>\n",
       "\n",
       "<g class=\"displacy-arrow\">\n",
       "    <path class=\"displacy-arc\" id=\"arrow-9717f912f7ae432e9eaef87dfbca1dec-0-1\" stroke-width=\"2px\" d=\"M250,182.0 C250,137.0 305.0,137.0 305.0,182.0\" fill=\"none\" stroke=\"currentColor\"/>\n",
       "    <text dy=\"1.25em\" style=\"font-size: 0.8em; letter-spacing: 1px\">\n",
       "        <textPath xlink:href=\"#arrow-9717f912f7ae432e9eaef87dfbca1dec-0-1\" class=\"displacy-label\" startOffset=\"50%\" side=\"left\" fill=\"currentColor\" text-anchor=\"middle\">det</textPath>\n",
       "    </text>\n",
       "    <path class=\"displacy-arrowhead\" d=\"M250,184.0 L242,172.0 258,172.0\" fill=\"currentColor\"/>\n",
       "</g>\n",
       "\n",
       "<g class=\"displacy-arrow\">\n",
       "    <path class=\"displacy-arc\" id=\"arrow-9717f912f7ae432e9eaef87dfbca1dec-0-2\" stroke-width=\"2px\" d=\"M70,182.0 C70,47.0 315.0,47.0 315.0,182.0\" fill=\"none\" stroke=\"currentColor\"/>\n",
       "    <text dy=\"1.25em\" style=\"font-size: 0.8em; letter-spacing: 1px\">\n",
       "        <textPath xlink:href=\"#arrow-9717f912f7ae432e9eaef87dfbca1dec-0-2\" class=\"displacy-label\" startOffset=\"50%\" side=\"left\" fill=\"currentColor\" text-anchor=\"middle\">nmod</textPath>\n",
       "    </text>\n",
       "    <path class=\"displacy-arrowhead\" d=\"M315.0,184.0 L323.0,172.0 307.0,172.0\" fill=\"currentColor\"/>\n",
       "</g>\n",
       "\n",
       "<g class=\"displacy-arrow\">\n",
       "    <path class=\"displacy-arc\" id=\"arrow-9717f912f7ae432e9eaef87dfbca1dec-0-3\" stroke-width=\"2px\" d=\"M430,182.0 C430,92.0 580.0,92.0 580.0,182.0\" fill=\"none\" stroke=\"currentColor\"/>\n",
       "    <text dy=\"1.25em\" style=\"font-size: 0.8em; letter-spacing: 1px\">\n",
       "        <textPath xlink:href=\"#arrow-9717f912f7ae432e9eaef87dfbca1dec-0-3\" class=\"displacy-label\" startOffset=\"50%\" side=\"left\" fill=\"currentColor\" text-anchor=\"middle\">case</textPath>\n",
       "    </text>\n",
       "    <path class=\"displacy-arrowhead\" d=\"M430,184.0 L422,172.0 438,172.0\" fill=\"currentColor\"/>\n",
       "</g>\n",
       "\n",
       "<g class=\"displacy-arrow\">\n",
       "    <path class=\"displacy-arc\" id=\"arrow-9717f912f7ae432e9eaef87dfbca1dec-0-4\" stroke-width=\"2px\" d=\"M520,182.0 C520,137.0 575.0,137.0 575.0,182.0\" fill=\"none\" stroke=\"currentColor\"/>\n",
       "    <text dy=\"1.25em\" style=\"font-size: 0.8em; letter-spacing: 1px\">\n",
       "        <textPath xlink:href=\"#arrow-9717f912f7ae432e9eaef87dfbca1dec-0-4\" class=\"displacy-label\" startOffset=\"50%\" side=\"left\" fill=\"currentColor\" text-anchor=\"middle\">det</textPath>\n",
       "    </text>\n",
       "    <path class=\"displacy-arrowhead\" d=\"M520,184.0 L512,172.0 528,172.0\" fill=\"currentColor\"/>\n",
       "</g>\n",
       "\n",
       "<g class=\"displacy-arrow\">\n",
       "    <path class=\"displacy-arc\" id=\"arrow-9717f912f7ae432e9eaef87dfbca1dec-0-5\" stroke-width=\"2px\" d=\"M340,182.0 C340,47.0 585.0,47.0 585.0,182.0\" fill=\"none\" stroke=\"currentColor\"/>\n",
       "    <text dy=\"1.25em\" style=\"font-size: 0.8em; letter-spacing: 1px\">\n",
       "        <textPath xlink:href=\"#arrow-9717f912f7ae432e9eaef87dfbca1dec-0-5\" class=\"displacy-label\" startOffset=\"50%\" side=\"left\" fill=\"currentColor\" text-anchor=\"middle\">nmod</textPath>\n",
       "    </text>\n",
       "    <path class=\"displacy-arrowhead\" d=\"M585.0,184.0 L593.0,172.0 577.0,172.0\" fill=\"currentColor\"/>\n",
       "</g>\n",
       "\n",
       "<g class=\"displacy-arrow\">\n",
       "    <path class=\"displacy-arc\" id=\"arrow-9717f912f7ae432e9eaef87dfbca1dec-0-6\" stroke-width=\"2px\" d=\"M700,182.0 C700,47.0 945.0,47.0 945.0,182.0\" fill=\"none\" stroke=\"currentColor\"/>\n",
       "    <text dy=\"1.25em\" style=\"font-size: 0.8em; letter-spacing: 1px\">\n",
       "        <textPath xlink:href=\"#arrow-9717f912f7ae432e9eaef87dfbca1dec-0-6\" class=\"displacy-label\" startOffset=\"50%\" side=\"left\" fill=\"currentColor\" text-anchor=\"middle\">cc</textPath>\n",
       "    </text>\n",
       "    <path class=\"displacy-arrowhead\" d=\"M700,184.0 L692,172.0 708,172.0\" fill=\"currentColor\"/>\n",
       "</g>\n",
       "\n",
       "<g class=\"displacy-arrow\">\n",
       "    <path class=\"displacy-arc\" id=\"arrow-9717f912f7ae432e9eaef87dfbca1dec-0-7\" stroke-width=\"2px\" d=\"M790,182.0 C790,92.0 940.0,92.0 940.0,182.0\" fill=\"none\" stroke=\"currentColor\"/>\n",
       "    <text dy=\"1.25em\" style=\"font-size: 0.8em; letter-spacing: 1px\">\n",
       "        <textPath xlink:href=\"#arrow-9717f912f7ae432e9eaef87dfbca1dec-0-7\" class=\"displacy-label\" startOffset=\"50%\" side=\"left\" fill=\"currentColor\" text-anchor=\"middle\">case</textPath>\n",
       "    </text>\n",
       "    <path class=\"displacy-arrowhead\" d=\"M790,184.0 L782,172.0 798,172.0\" fill=\"currentColor\"/>\n",
       "</g>\n",
       "\n",
       "<g class=\"displacy-arrow\">\n",
       "    <path class=\"displacy-arc\" id=\"arrow-9717f912f7ae432e9eaef87dfbca1dec-0-8\" stroke-width=\"2px\" d=\"M880,182.0 C880,137.0 935.0,137.0 935.0,182.0\" fill=\"none\" stroke=\"currentColor\"/>\n",
       "    <text dy=\"1.25em\" style=\"font-size: 0.8em; letter-spacing: 1px\">\n",
       "        <textPath xlink:href=\"#arrow-9717f912f7ae432e9eaef87dfbca1dec-0-8\" class=\"displacy-label\" startOffset=\"50%\" side=\"left\" fill=\"currentColor\" text-anchor=\"middle\">det</textPath>\n",
       "    </text>\n",
       "    <path class=\"displacy-arrowhead\" d=\"M880,184.0 L872,172.0 888,172.0\" fill=\"currentColor\"/>\n",
       "</g>\n",
       "\n",
       "<g class=\"displacy-arrow\">\n",
       "    <path class=\"displacy-arc\" id=\"arrow-9717f912f7ae432e9eaef87dfbca1dec-0-9\" stroke-width=\"2px\" d=\"M610,182.0 C610,2.0 950.0,2.0 950.0,182.0\" fill=\"none\" stroke=\"currentColor\"/>\n",
       "    <text dy=\"1.25em\" style=\"font-size: 0.8em; letter-spacing: 1px\">\n",
       "        <textPath xlink:href=\"#arrow-9717f912f7ae432e9eaef87dfbca1dec-0-9\" class=\"displacy-label\" startOffset=\"50%\" side=\"left\" fill=\"currentColor\" text-anchor=\"middle\">conj</textPath>\n",
       "    </text>\n",
       "    <path class=\"displacy-arrowhead\" d=\"M950.0,184.0 L958.0,172.0 942.0,172.0\" fill=\"currentColor\"/>\n",
       "</g>\n",
       "\n",
       "<g class=\"displacy-arrow\">\n",
       "    <path class=\"displacy-arc\" id=\"arrow-9717f912f7ae432e9eaef87dfbca1dec-0-10\" stroke-width=\"2px\" d=\"M1060,182.0 C1060,92.0 1210.0,92.0 1210.0,182.0\" fill=\"none\" stroke=\"currentColor\"/>\n",
       "    <text dy=\"1.25em\" style=\"font-size: 0.8em; letter-spacing: 1px\">\n",
       "        <textPath xlink:href=\"#arrow-9717f912f7ae432e9eaef87dfbca1dec-0-10\" class=\"displacy-label\" startOffset=\"50%\" side=\"left\" fill=\"currentColor\" text-anchor=\"middle\">case</textPath>\n",
       "    </text>\n",
       "    <path class=\"displacy-arrowhead\" d=\"M1060,184.0 L1052,172.0 1068,172.0\" fill=\"currentColor\"/>\n",
       "</g>\n",
       "\n",
       "<g class=\"displacy-arrow\">\n",
       "    <path class=\"displacy-arc\" id=\"arrow-9717f912f7ae432e9eaef87dfbca1dec-0-11\" stroke-width=\"2px\" d=\"M1150,182.0 C1150,137.0 1205.0,137.0 1205.0,182.0\" fill=\"none\" stroke=\"currentColor\"/>\n",
       "    <text dy=\"1.25em\" style=\"font-size: 0.8em; letter-spacing: 1px\">\n",
       "        <textPath xlink:href=\"#arrow-9717f912f7ae432e9eaef87dfbca1dec-0-11\" class=\"displacy-label\" startOffset=\"50%\" side=\"left\" fill=\"currentColor\" text-anchor=\"middle\">det</textPath>\n",
       "    </text>\n",
       "    <path class=\"displacy-arrowhead\" d=\"M1150,184.0 L1142,172.0 1158,172.0\" fill=\"currentColor\"/>\n",
       "</g>\n",
       "\n",
       "<g class=\"displacy-arrow\">\n",
       "    <path class=\"displacy-arc\" id=\"arrow-9717f912f7ae432e9eaef87dfbca1dec-0-12\" stroke-width=\"2px\" d=\"M970,182.0 C970,47.0 1215.0,47.0 1215.0,182.0\" fill=\"none\" stroke=\"currentColor\"/>\n",
       "    <text dy=\"1.25em\" style=\"font-size: 0.8em; letter-spacing: 1px\">\n",
       "        <textPath xlink:href=\"#arrow-9717f912f7ae432e9eaef87dfbca1dec-0-12\" class=\"displacy-label\" startOffset=\"50%\" side=\"left\" fill=\"currentColor\" text-anchor=\"middle\">nmod</textPath>\n",
       "    </text>\n",
       "    <path class=\"displacy-arrowhead\" d=\"M1215.0,184.0 L1223.0,172.0 1207.0,172.0\" fill=\"currentColor\"/>\n",
       "</g>\n",
       "</svg></span>"
      ],
      "text/plain": [
       "<IPython.core.display.HTML object>"
      ]
     },
     "metadata": {},
     "output_type": "display_data"
    }
   ],
   "source": [
    "displacy.render(document, style='dep', jupyter=True, options={'distance': 90})"
   ]
  },
  {
   "cell_type": "code",
   "execution_count": 52,
   "metadata": {},
   "outputs": [],
   "source": [
    "p1 = pln(\"mobileapp.bradescoidmobile.com\")\n",
    "p2 = pln(\"bradescoidmobile-app.com\")"
   ]
  },
  {
   "cell_type": "code",
   "execution_count": 53,
   "metadata": {},
   "outputs": [
    {
     "name": "stderr",
     "output_type": "stream",
     "text": [
      "<ipython-input-53-9e73a335517f>:1: UserWarning: [W007] The model you're using has no word vectors loaded, so the result of the Doc.similarity method will be based on the tagger, parser and NER, which may not give useful similarity judgements. This may happen if you're using one of the small models, e.g. `en_core_web_sm`, which don't ship with word vectors and only use context-sensitive tensors. You can always add your own word vectors, or use one of the larger models instead if available.\n",
      "  p1.similarity(p2)\n"
     ]
    },
    {
     "data": {
      "text/plain": [
       "0.7323504772842916"
      ]
     },
     "execution_count": 53,
     "metadata": {},
     "output_type": "execute_result"
    }
   ],
   "source": [
    "p1.similarity(p2)"
   ]
  },
  {
   "cell_type": "code",
   "execution_count": null,
   "metadata": {},
   "outputs": [],
   "source": []
  }
 ],
 "metadata": {
  "kernelspec": {
   "display_name": "Python 3",
   "language": "python",
   "name": "python3"
  },
  "language_info": {
   "codemirror_mode": {
    "name": "ipython",
    "version": 3
   },
   "file_extension": ".py",
   "mimetype": "text/x-python",
   "name": "python",
   "nbconvert_exporter": "python",
   "pygments_lexer": "ipython3",
   "version": "3.8.5"
  }
 },
 "nbformat": 4,
 "nbformat_minor": 4
}
