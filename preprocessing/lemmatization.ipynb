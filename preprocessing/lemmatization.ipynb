{
 "cells": [
  {
   "cell_type": "markdown",
   "id": "7c02d02e",
   "metadata": {},
   "source": [
    "# Speech and Language Processing\n",
    "### An introduction to Natural Language Processing, Computational Linguistics, and Speech Recognition\n",
    "Daniel Jurafsky and James H. Martin. 2000. Speech and Language Processing: An Introduction to Natural Language Processing, Computational Linguistics, and Speech Recognition (1st. ed.). Prentice Hall PTR, USA.\n",
    "\n",
    "### Lemmatization\n",
    "\n",
    "Lemmatization is a technique in Natural Language Processing (NLP) used to reduce words to their base or dictionary form, known as the lemma. The goal of lemmatization is to improve the accuracy and efficiency of text processing by reducing the number of unique words that need to be processed. Lemmatization is particularly useful in applications such as information retrieval or text classification, where the focus is on the underlying meaning of the words rather than their exact form.\n",
    "\n",
    "Lemmatization works by using a dictionary or a morphological analysis to obtain the base form of a word. For example, the lemma of the words \"ran\", \"runs\", and \"running\" is \"run\". This process takes into account the context and part of speech of the word, so that the resulting lemma is a valid word in the language.\n",
    "\n",
    "One of the advantages of lemmatization over stemming is that it produces a valid word in the language, which can improve the accuracy of text processing and analysis. However, lemmatization can be more computationally expensive than stemming, as it requires access to a dictionary or morphological analyzer.\n",
    "\n",
    "Lemmatization is commonly used in applications such as information retrieval, text classification, and sentiment analysis. It can also be combined with other NLP techniques, such as part-of-speech tagging, to further improve the accuracy of text processing and analysis.\n",
    "\n",
    "In summary, lemmatization is a valuable technique in NLP for reducing the number of unique words that need to be processed, improving the accuracy of text processing and analysis. It works by using a dictionary or morphological analysis to obtain the base form of a word, taking into account the context and part of speech of the word. While it can be more computationally expensive than stemming, it produces a valid word in the language, which can improve the accuracy of text processing and analysis.\n",
    "\n",
    "\n",
    "<img src=\"https://d2mk45aasx86xg.cloudfront.net/difference_between_Stemming_and_lemmatization_8_11zon_452539721d.webp\">"
   ]
  },
  {
   "cell_type": "code",
   "execution_count": 11,
   "id": "10b1031b",
   "metadata": {},
   "outputs": [
    {
     "data": {
      "text/plain": [
       "['change', 'change', 'change', 'change', 'changer']"
      ]
     },
     "execution_count": 11,
     "metadata": {},
     "output_type": "execute_result"
    }
   ],
   "source": [
    "from nltk.corpus import wordnet\n",
    "from nltk.stem import WordNetLemmatizer\n",
    "\n",
    "# It's necessary define parts-of-speech (POS) tag in lemmatize call\n",
    "words = ['change', 'changing', 'changes', 'changed', 'changer']\n",
    "\n",
    "lemmatizer = WordNetLemmatizer()\n",
    "\n",
    "lemmas = [lemmatizer.lemmatize(token, wordnet.VERB) for token in words]\n",
    "lemmas"
   ]
  }
 ],
 "metadata": {
  "kernelspec": {
   "display_name": "Python 3 (ipykernel)",
   "language": "python",
   "name": "python3"
  },
  "language_info": {
   "codemirror_mode": {
    "name": "ipython",
    "version": 3
   },
   "file_extension": ".py",
   "mimetype": "text/x-python",
   "name": "python",
   "nbconvert_exporter": "python",
   "pygments_lexer": "ipython3",
   "version": "3.9.13"
  }
 },
 "nbformat": 4,
 "nbformat_minor": 5
}
