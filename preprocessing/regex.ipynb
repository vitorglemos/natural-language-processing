{
 "cells": [
  {
   "cell_type": "markdown",
   "id": "82f33fbc",
   "metadata": {},
   "source": [
    "# Speech and Language Processing\n",
    "### An introduction to Natural Language Processing, Computational Linguistics, and Speech Recognition\n",
    "Daniel Jurafsky and James H. Martin. 2000. Speech and Language Processing: An Introduction to Natural Language Processing, Computational Linguistics, and Speech Recognition (1st. ed.). Prentice Hall PTR, USA.\n",
    "\n",
    "### Regular Expression \n",
    "\n",
    "Regular Expressions, commonly referred to as regex, are a powerful tool in Natural Language Processing (NLP) used to identify patterns in text data. A regular expression is a sequence of characters that define a search pattern, used to match and manipulate text strings. This allows NLP applications to find specific words, phrases, or patterns in text data with greater accuracy and efficiency.\n",
    "\n",
    "Regular expressions can be used for a wide range of NLP tasks, including tokenization, text normalization, and information extraction. For example, a regular expression can be used to identify all occurrences of email addresses, phone numbers, or dates in a text document. This is done by defining a pattern that matches the desired structure of these entities, such as the format of an email address or phone number.\n",
    "\n",
    "Regular expressions are also useful for text preprocessing tasks such as removing stopwords, punctuation, or other non-relevant characters from the text data. For example, a regular expression can be used to remove all punctuation marks from a text document, leaving only the words.\n",
    "\n",
    "While regular expressions are a powerful tool in NLP, they can also be complex and difficult to master. In addition, the use of regular expressions requires a deep understanding of the language and the specific patterns that are being searched for. As such, regular expressions are often used in combination with other NLP techniques, such as machine learning algorithms or rule-based systems, to improve accuracy and efficiency.\n",
    "\n",
    "In summary, regular expressions are a valuable tool in NLP for identifying patterns in text data. They are commonly used for tasks such as tokenization, text normalization, and information extraction. However, their use requires a deep understanding of the language and specific patterns being searched for, and they are often used in combination with other NLP techniques to improve accuracy and efficiency."
   ]
  },
  {
   "cell_type": "code",
   "execution_count": 1,
   "id": "761d4362",
   "metadata": {},
   "outputs": [],
   "source": [
    "import re"
   ]
  },
  {
   "cell_type": "code",
   "execution_count": 2,
   "id": "904e84cc",
   "metadata": {},
   "outputs": [],
   "source": [
    "text = \"\"\" \n",
    "        User: I am unhappy. \n",
    "        ELIZA: DO YOU THINK COMING HERE WILL HELP YOU NOT TO BE UNHAPPY\n",
    "        User: I need some help, that much seems certain.\n",
    "        ELIZA: WHAT WOULD IT MEAN TO YOU IF YOU GOT SOME HELP\n",
    "        User: Perhaps I could learn to get along with my mother.\n",
    "        ELIZA: TELL ME MORE ABOUT YOUR FAMILY\n",
    "        User: My mother takes care of me.\n",
    "        ELIZA: WHO ELSE IN YOU FAMILY TAKES CARE OF YOU\n",
    "        User: My father.\n",
    "        ELIZA: YOUR FATHER\n",
    "        User: You are like my father in some ways.\n",
    "\"\"\""
   ]
  },
  {
   "cell_type": "code",
   "execution_count": 5,
   "id": "3744367e",
   "metadata": {},
   "outputs": [
    {
     "data": {
      "text/plain": [
       "['ELIZA', 'ELIZA', 'ELIZA', 'ELIZA', 'ELIZA']"
      ]
     },
     "execution_count": 5,
     "metadata": {},
     "output_type": "execute_result"
    }
   ],
   "source": [
    "re.findall(\"ELIZA\", text)"
   ]
  },
  {
   "cell_type": "code",
   "execution_count": 6,
   "id": "ff2cbaad",
   "metadata": {},
   "outputs": [
    {
     "data": {
      "text/plain": [
       "['User', 'User', 'User', 'User', 'User', 'User']"
      ]
     },
     "execution_count": 6,
     "metadata": {},
     "output_type": "execute_result"
    }
   ],
   "source": [
    "re.findall(\"User\", text)"
   ]
  },
  {
   "cell_type": "code",
   "execution_count": 9,
   "id": "12f84293",
   "metadata": {},
   "outputs": [
    {
     "data": {
      "text/plain": [
       "' \\n        User I am unhappy. \\n        ELIZA DO YOU THINK COMING HERE WILL HELP YOU NOT TO BE UNHAPPY\\n        User I need some help, that much seems certain.\\n        ELIZA WHAT WOULD IT MEAN TO YOU IF YOU GOT SOME HELP\\n        User Perhaps I could learn to get along with my mother.\\n        ELIZA TELL ME MORE ABOUT YOUR FAMILY\\n        User My mother takes care of me.\\n        ELIZA WHO ELSE IN YOU FAMILY TAKES CARE OF YOU\\n        User My father.\\n        ELIZA YOUR FATHER\\n        User You are like my father in some ways.\\n'"
      ]
     },
     "execution_count": 9,
     "metadata": {},
     "output_type": "execute_result"
    }
   ],
   "source": [
    "re.sub(\"[:]\", \"\", text)"
   ]
  }
 ],
 "metadata": {
  "kernelspec": {
   "display_name": "Python 3 (ipykernel)",
   "language": "python",
   "name": "python3"
  },
  "language_info": {
   "codemirror_mode": {
    "name": "ipython",
    "version": 3
   },
   "file_extension": ".py",
   "mimetype": "text/x-python",
   "name": "python",
   "nbconvert_exporter": "python",
   "pygments_lexer": "ipython3",
   "version": "3.9.13"
  }
 },
 "nbformat": 4,
 "nbformat_minor": 5
}
