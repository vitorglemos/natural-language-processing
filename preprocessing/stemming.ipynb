{
 "cells": [
  {
   "cell_type": "markdown",
   "id": "a09277ca",
   "metadata": {},
   "source": [
    "# Speech and Language Processing\n",
    "### An introduction to Natural Language Processing, Computational Linguistics, and Speech Recognition\n",
    "Daniel Jurafsky and James H. Martin. 2000. Speech and Language Processing: An Introduction to Natural Language Processing, Computational Linguistics, and Speech Recognition (1st. ed.). Prentice Hall PTR, USA.\n",
    "\n",
    "### Stemming\n",
    "\n",
    "Stemming is a technique in Natural Language Processing (NLP) used to reduce words to their base or root form, known as the stem. The goal of stemming is to improve the efficiency and accuracy of text processing by reducing the number of unique words that need to be processed. Stemming is particularly useful in applications such as search engines or sentiment analysis, where the focus is on the underlying meaning of the words rather than their exact form.\n",
    "\n",
    "Stemming works by removing the suffixes from words to obtain the root form. For example, the stem of the words \"running\", \"runs\", and \"run\" is \"run\". This process can be done using a variety of algorithms, including the Porter stemming algorithm, the Snowball stemming algorithm, and the Lancaster stemming algorithm, among others.\n",
    "\n",
    "One of the challenges of stemming is that it can sometimes result in the stem being a non-word, meaning a word that is not found in the dictionary. For example, the stem of the word \"better\" using the Porter stemming algorithm is \"bet\", which is not a word. This can sometimes lead to errors in text processing and analysis. To mitigate this, techniques such as lemmatization can be used instead of stemming, which involves reducing words to their dictionary form instead of just the stem.\n",
    "\n",
    "Despite these challenges, stemming remains a valuable technique in NLP for reducing the number of unique words that need to be processed, thus improving the efficiency and accuracy of text processing. It is commonly used in search engines, text classification, and sentiment analysis, among other applications. However, it is important to carefully consider the specific algorithm and parameters used for stemming, as well as any potential limitations or drawbacks of the technique.\n",
    "\n",
    "<img src=\"https://d2mk45aasx86xg.cloudfront.net/difference_between_Stemming_and_lemmatization_8_11zon_452539721d.webp\">"
   ]
  },
  {
   "cell_type": "code",
   "execution_count": 10,
   "id": "cee44800",
   "metadata": {},
   "outputs": [
    {
     "name": "stdout",
     "output_type": "stream",
     "text": [
      "Porter Stemmer, Lancaster Stemmer\n",
      "('chang', 'chang')\n",
      "('chang', 'chang')\n",
      "('happi', 'happy')\n",
      "('happier', 'happy')\n"
     ]
    }
   ],
   "source": [
    "from nltk.stem import PorterStemmer, LancasterStemmer\n",
    "\n",
    "words = ['change', 'changing', 'happy', 'happier']\n",
    "\n",
    "porter_stemmer = PorterStemmer()\n",
    "lancaster_stemmer = LancasterStemmer()\n",
    "\n",
    "stemmed_full = [(porter_stemmer.stem(word), lancaster_stemmer.stem(word)) for word in words]\n",
    "\n",
    "print(\"Porter Stemmer, Lancaster Stemmer\")\n",
    "for stem_word in stemmed_full:\n",
    "    print(stem_word)"
   ]
  }
 ],
 "metadata": {
  "kernelspec": {
   "display_name": "Python 3 (ipykernel)",
   "language": "python",
   "name": "python3"
  },
  "language_info": {
   "codemirror_mode": {
    "name": "ipython",
    "version": 3
   },
   "file_extension": ".py",
   "mimetype": "text/x-python",
   "name": "python",
   "nbconvert_exporter": "python",
   "pygments_lexer": "ipython3",
   "version": "3.9.13"
  }
 },
 "nbformat": 4,
 "nbformat_minor": 5
}
