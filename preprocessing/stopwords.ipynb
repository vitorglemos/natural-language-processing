{
 "cells": [
  {
   "cell_type": "markdown",
   "id": "de1c0764",
   "metadata": {},
   "source": [
    "# Speech and Language Processing\n",
    "### An introduction to Natural Language Processing, Computational Linguistics, and Speech Recognition\n",
    "Daniel Jurafsky and James H. Martin. 2000. Speech and Language Processing: An Introduction to Natural Language Processing, Computational Linguistics, and Speech Recognition (1st. ed.). Prentice Hall PTR, USA.\n",
    "\n",
    "### StopWords\n",
    "\n",
    "Stopwords refer to the most commonly used words in a language that are considered to have little or no contribution to the meaning of a text. These words are usually removed from the text during the preprocessing stage of natural language processing (NLP) in order to improve the efficiency and accuracy of text analysis. Examples of stopwords in English include words like \"the\", \"and\", \"of\", \"in\", \"to\", \"that\", \"is\", \"it\", and so on. These words are so commonly used in English that they do not carry much semantic meaning, and their inclusion in text analysis can sometimes lead to noisy or misleading results.\n",
    "\n",
    "Removing stopwords can help to reduce the dimensionality of text data and improve the accuracy of text analysis. This is particularly important for tasks like text classification, sentiment analysis, and topic modeling, where the focus is on identifying meaningful patterns and relationships in the text. However, it is important to note that the selection of stopwords can vary depending on the specific task or domain being analyzed. For example, certain domain-specific terms or jargon may be considered stopwords in one context but not in another. Therefore, it is often necessary to customize the list of stopwords for each specific use case.\n",
    "\n",
    "In Natural Language Processing, there are several libraries and tools available that provide pre-defined lists of stopwords for different languages, including NLTK, spaCy, and Scikit-Learn. These libraries can be used to remove stopwords from text data during the preprocessing stage, and can significantly improve the accuracy and efficiency of text analysis tasks.\n",
    "\n",
    "<img src=\"https://wisdomml.in/wp-content/uploads/2022/08/stop_words-1024x556.jpg\">"
   ]
  },
  {
   "cell_type": "code",
   "execution_count": 1,
   "id": "a444a58f",
   "metadata": {},
   "outputs": [
    {
     "name": "stderr",
     "output_type": "stream",
     "text": [
      "[nltk_data] Downloading package stopwords to\n",
      "[nltk_data]     C:\\Users\\vgama\\AppData\\Roaming\\nltk_data...\n",
      "[nltk_data]   Package stopwords is already up-to-date!\n"
     ]
    }
   ],
   "source": [
    "import nltk\n",
    "from nltk.corpus import stopwords\n",
    "nltk.download('stopwords')\n",
    "\n",
    "def remove_stopwords(text):\n",
    "    stop_words = set(stopwords.words('english'))\n",
    "    words = text.split()\n",
    "    filtered_words = [word for word in words if word.lower() not in stop_words]\n",
    "    return ' '.join(filtered_words)"
   ]
  },
  {
   "cell_type": "code",
   "execution_count": 6,
   "id": "33057adc",
   "metadata": {},
   "outputs": [
    {
     "data": {
      "text/plain": [
       "'think coming help unhappy'"
      ]
     },
     "execution_count": 6,
     "metadata": {},
     "output_type": "execute_result"
    }
   ],
   "source": [
    "remove_stopwords('do you think coming here will help you not to be unhappy')"
   ]
  },
  {
   "cell_type": "code",
   "execution_count": 7,
   "id": "14e2c4bc",
   "metadata": {},
   "outputs": [
    {
     "data": {
      "text/plain": [
       "'need help, much seems certain'"
      ]
     },
     "execution_count": 7,
     "metadata": {},
     "output_type": "execute_result"
    }
   ],
   "source": [
    "remove_stopwords('I need some help, that much seems certain')"
   ]
  }
 ],
 "metadata": {
  "kernelspec": {
   "display_name": "Python 3 (ipykernel)",
   "language": "python",
   "name": "python3"
  },
  "language_info": {
   "codemirror_mode": {
    "name": "ipython",
    "version": 3
   },
   "file_extension": ".py",
   "mimetype": "text/x-python",
   "name": "python",
   "nbconvert_exporter": "python",
   "pygments_lexer": "ipython3",
   "version": "3.9.13"
  }
 },
 "nbformat": 4,
 "nbformat_minor": 5
}
