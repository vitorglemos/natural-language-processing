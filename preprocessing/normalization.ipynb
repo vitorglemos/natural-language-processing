{
 "cells": [
  {
   "cell_type": "markdown",
   "id": "90b82990",
   "metadata": {},
   "source": [
    "# Speech and Language Processing\n",
    "### An introduction to Natural Language Processing, Computational Linguistics, and Speech Recognition\n",
    "Daniel Jurafsky and James H. Martin. 2000. Speech and Language Processing: An Introduction to Natural Language Processing, Computational Linguistics, and Speech Recognition (1st. ed.). Prentice Hall PTR, USA.\n",
    "\n",
    "### Normalization\n",
    "\n",
    "Normalization refers to the process of transforming data into a standard format in order to facilitate data comparison and analysis. In the context of natural language processing (NLP), normalization typically refers to the process of converting text data into a standard format. Normalization techniques in NLP include several processes such as converting text to lowercase, removing stop words, stemming, and lemmatization. The objective of normalization is to reduce the variability of text data, so that it can be more easily compared and analyzed.\n",
    "\n",
    "Converting text to lowercase is a basic normalization technique that involves converting all the letters in a piece of text to lowercase. This is useful because it reduces the number of variations of the same word that may occur in a text corpus. For example, \"Dog\", \"DOG\", and \"dog\" would all be converted to \"dog\". Removing stop words is another common normalization technique, which involves removing common words such as \"the\", \"a\", and \"an\". These words do not add significant meaning to a sentence and removing them helps to reduce the dimensionality of the data.\n",
    "\n",
    "Stemming and lemmatization are two other common normalization techniques in NLP. Stemming involves reducing words to their root form, while lemmatization involves reducing words to their base form. These techniques help to reduce the variability of words that can occur in a text corpus, making it easier to compare and analyze the data. Normalization is an important step in the preprocessing stage of NLP, as it can significantly improve the accuracy and performance of machine learning models that use text data. By reducing the variability of text data, normalization techniques help to improve the accuracy of text classification, sentiment analysis, and other NLP tasks.\n",
    "\n",
    "<img src=\"https://devopedia.org/images/article/293/1027.1608556695.png\">"
   ]
  },
  {
   "cell_type": "code",
   "execution_count": 22,
   "id": "938665fb",
   "metadata": {},
   "outputs": [],
   "source": [
    "import re\n",
    "from textblob import TextBlob\n",
    "\n",
    "def lowercase(text):\n",
    "    return text.lower()\n",
    "\n",
    "def remove_special_characters(text):\n",
    "    pattern = r'[^a-zA-Z\\s]'\n",
    "    return re.sub(pattern, '', text)\n",
    "\n",
    "def spelling_correction(text):\n",
    "    blob = TextBlob(text)\n",
    "    return str(blob.correct())\n"
   ]
  },
  {
   "cell_type": "code",
   "execution_count": 16,
   "id": "f087f3a1",
   "metadata": {},
   "outputs": [],
   "source": [
    "text = \"\"\" User: I am unhappy. @ELIZA: DO YOU THINK COMING HERE WILL HELP YOU NOT TO BE UNHAPP $3Y. User: I need some help, that much seems certain. ELIZA: WHAT WOULD IT MEAN TO YOU IF YOU GOT SOME HELP\"\"\""
   ]
  },
  {
   "cell_type": "code",
   "execution_count": 17,
   "id": "cf78052b",
   "metadata": {},
   "outputs": [
    {
     "data": {
      "text/plain": [
       "' user: i am unhappy. @eliza: do you think coming here will help you not to be unhapp $3y. user: i need some help, that much seems certain. eliza: what would it mean to you if you got some help'"
      ]
     },
     "execution_count": 17,
     "metadata": {},
     "output_type": "execute_result"
    }
   ],
   "source": [
    "lowercase(text)"
   ]
  },
  {
   "cell_type": "code",
   "execution_count": 18,
   "id": "93cddb6e",
   "metadata": {},
   "outputs": [
    {
     "data": {
      "text/plain": [
       "' User I am unhappy ELIZA DO YOU THINK COMING HERE WILL HELP YOU NOT TO BE UNHAPP Y User I need some help that much seems certain ELIZA WHAT WOULD IT MEAN TO YOU IF YOU GOT SOME HELP'"
      ]
     },
     "execution_count": 18,
     "metadata": {},
     "output_type": "execute_result"
    }
   ],
   "source": [
    "remove_special_characters(text)"
   ]
  },
  {
   "cell_type": "code",
   "execution_count": 33,
   "id": "2a1c2f1f",
   "metadata": {},
   "outputs": [
    {
     "data": {
      "text/plain": [
       "'do you think coming here will help you not to be unhappy'"
      ]
     },
     "execution_count": 33,
     "metadata": {},
     "output_type": "execute_result"
    }
   ],
   "source": [
    "spelling_correction('do yyou think comin here will help you not to be unhappy')"
   ]
  }
 ],
 "metadata": {
  "kernelspec": {
   "display_name": "Python 3 (ipykernel)",
   "language": "python",
   "name": "python3"
  },
  "language_info": {
   "codemirror_mode": {
    "name": "ipython",
    "version": 3
   },
   "file_extension": ".py",
   "mimetype": "text/x-python",
   "name": "python",
   "nbconvert_exporter": "python",
   "pygments_lexer": "ipython3",
   "version": "3.9.13"
  }
 },
 "nbformat": 4,
 "nbformat_minor": 5
}
