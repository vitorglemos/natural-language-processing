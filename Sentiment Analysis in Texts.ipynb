{
 "cells": [
  {
   "cell_type": "code",
   "execution_count": 1,
   "metadata": {},
   "outputs": [],
   "source": [
    "import pandas as pd\n",
    "import string\n",
    "import spacy\n",
    "import random\n",
    "import seaborn as sns\n",
    "import numpy as np"
   ]
  },
  {
   "cell_type": "code",
   "execution_count": 3,
   "metadata": {},
   "outputs": [],
   "source": [
    "base_dados = pd.read_csv('base_treinamento.txt', encoding = 'utf-8')"
   ]
  },
  {
   "cell_type": "code",
   "execution_count": 4,
   "metadata": {},
   "outputs": [
    {
     "data": {
      "text/plain": [
       "(196, 2)"
      ]
     },
     "execution_count": 4,
     "metadata": {},
     "output_type": "execute_result"
    }
   ],
   "source": [
    "base_dados.shape"
   ]
  },
  {
   "cell_type": "code",
   "execution_count": 5,
   "metadata": {},
   "outputs": [
    {
     "data": {
      "text/html": [
       "<div>\n",
       "<style scoped>\n",
       "    .dataframe tbody tr th:only-of-type {\n",
       "        vertical-align: middle;\n",
       "    }\n",
       "\n",
       "    .dataframe tbody tr th {\n",
       "        vertical-align: top;\n",
       "    }\n",
       "\n",
       "    .dataframe thead th {\n",
       "        text-align: right;\n",
       "    }\n",
       "</style>\n",
       "<table border=\"1\" class=\"dataframe\">\n",
       "  <thead>\n",
       "    <tr style=\"text-align: right;\">\n",
       "      <th></th>\n",
       "      <th>texto</th>\n",
       "      <th>emocao</th>\n",
       "    </tr>\n",
       "  </thead>\n",
       "  <tbody>\n",
       "    <tr>\n",
       "      <th>0</th>\n",
       "      <td>este trabalho é agradável</td>\n",
       "      <td>alegria</td>\n",
       "    </tr>\n",
       "    <tr>\n",
       "      <th>1</th>\n",
       "      <td>gosto de ficar no seu aconchego</td>\n",
       "      <td>alegria</td>\n",
       "    </tr>\n",
       "    <tr>\n",
       "      <th>2</th>\n",
       "      <td>fiz a adesão ao curso hoje</td>\n",
       "      <td>alegria</td>\n",
       "    </tr>\n",
       "    <tr>\n",
       "      <th>3</th>\n",
       "      <td>eu sou admirada por muitos</td>\n",
       "      <td>alegria</td>\n",
       "    </tr>\n",
       "    <tr>\n",
       "      <th>4</th>\n",
       "      <td>adoro como você</td>\n",
       "      <td>alegria</td>\n",
       "    </tr>\n",
       "    <tr>\n",
       "      <th>5</th>\n",
       "      <td>adoro seu cabelo macio</td>\n",
       "      <td>alegria</td>\n",
       "    </tr>\n",
       "    <tr>\n",
       "      <th>6</th>\n",
       "      <td>adoro a cor dos seus olhos</td>\n",
       "      <td>alegria</td>\n",
       "    </tr>\n",
       "    <tr>\n",
       "      <th>7</th>\n",
       "      <td>somo tão amáveis um com o outro</td>\n",
       "      <td>alegria</td>\n",
       "    </tr>\n",
       "    <tr>\n",
       "      <th>8</th>\n",
       "      <td>sinto uma grande afeição por ele</td>\n",
       "      <td>alegria</td>\n",
       "    </tr>\n",
       "    <tr>\n",
       "      <th>9</th>\n",
       "      <td>quero agradar meus filhos</td>\n",
       "      <td>alegria</td>\n",
       "    </tr>\n",
       "  </tbody>\n",
       "</table>\n",
       "</div>"
      ],
      "text/plain": [
       "                              texto   emocao\n",
       "0         este trabalho é agradável  alegria\n",
       "1   gosto de ficar no seu aconchego  alegria\n",
       "2        fiz a adesão ao curso hoje  alegria\n",
       "3        eu sou admirada por muitos  alegria\n",
       "4                   adoro como você  alegria\n",
       "5            adoro seu cabelo macio  alegria\n",
       "6        adoro a cor dos seus olhos  alegria\n",
       "7   somo tão amáveis um com o outro  alegria\n",
       "8  sinto uma grande afeição por ele  alegria\n",
       "9         quero agradar meus filhos  alegria"
      ]
     },
     "execution_count": 5,
     "metadata": {},
     "output_type": "execute_result"
    }
   ],
   "source": [
    "base_dados.head(10)"
   ]
  },
  {
   "cell_type": "code",
   "execution_count": 7,
   "metadata": {},
   "outputs": [
    {
     "data": {
      "text/html": [
       "<div>\n",
       "<style scoped>\n",
       "    .dataframe tbody tr th:only-of-type {\n",
       "        vertical-align: middle;\n",
       "    }\n",
       "\n",
       "    .dataframe tbody tr th {\n",
       "        vertical-align: top;\n",
       "    }\n",
       "\n",
       "    .dataframe thead th {\n",
       "        text-align: right;\n",
       "    }\n",
       "</style>\n",
       "<table border=\"1\" class=\"dataframe\">\n",
       "  <thead>\n",
       "    <tr style=\"text-align: right;\">\n",
       "      <th></th>\n",
       "      <th>texto</th>\n",
       "      <th>emocao</th>\n",
       "    </tr>\n",
       "  </thead>\n",
       "  <tbody>\n",
       "    <tr>\n",
       "      <th>191</th>\n",
       "      <td>estou chocado e amedrontado com este assassina...</td>\n",
       "      <td>medo</td>\n",
       "    </tr>\n",
       "    <tr>\n",
       "      <th>192</th>\n",
       "      <td>é preciso afugenta com ímpeto este medo do inf...</td>\n",
       "      <td>medo</td>\n",
       "    </tr>\n",
       "    <tr>\n",
       "      <th>193</th>\n",
       "      <td>políticos usam suas forças para afugentar e am...</td>\n",
       "      <td>medo</td>\n",
       "    </tr>\n",
       "    <tr>\n",
       "      <th>194</th>\n",
       "      <td>o objetivo disso e apenas me amedrontar mais</td>\n",
       "      <td>medo</td>\n",
       "    </tr>\n",
       "    <tr>\n",
       "      <th>195</th>\n",
       "      <td>isso me apavora</td>\n",
       "      <td>medo</td>\n",
       "    </tr>\n",
       "  </tbody>\n",
       "</table>\n",
       "</div>"
      ],
      "text/plain": [
       "                                                 texto emocao\n",
       "191  estou chocado e amedrontado com este assassina...   medo\n",
       "192  é preciso afugenta com ímpeto este medo do inf...   medo\n",
       "193  políticos usam suas forças para afugentar e am...   medo\n",
       "194       o objetivo disso e apenas me amedrontar mais   medo\n",
       "195                                    isso me apavora   medo"
      ]
     },
     "execution_count": 7,
     "metadata": {},
     "output_type": "execute_result"
    }
   ],
   "source": [
    "base_dados.tail()"
   ]
  },
  {
   "cell_type": "code",
   "execution_count": 8,
   "metadata": {},
   "outputs": [
    {
     "data": {
      "image/png": "[encoded data removed]",
      "text/plain": [
       "<Figure size 432x288 with 1 Axes>"
      ]
     },
     "metadata": {
      "needs_background": "light"
     },
     "output_type": "display_data"
    }
   ],
   "source": [
    "sns.countplot(base_dados['emocao'], label = 'Contagem');"
   ]
  },
  {
   "cell_type": "code",
   "execution_count": 9,
   "metadata": {},
   "outputs": [
    {
     "data": {
      "text/plain": [
       "'!\"#$%&\\'()*+,-./:;<=>?@[\\\\]^_`{|}~'"
      ]
     },
     "execution_count": 9,
     "metadata": {},
     "output_type": "execute_result"
    }
   ],
   "source": [
    "pontuacoes = string.punctuation\n",
    "pontuacoes"
   ]
  },
  {
   "cell_type": "code",
   "execution_count": 11,
   "metadata": {},
   "outputs": [],
   "source": [
    "from spacy.lang.pt.stop_words import STOP_WORDS\n",
    "stop_words = STOP_WORDS"
   ]
  },
  {
   "cell_type": "code",
   "execution_count": 12,
   "metadata": {},
   "outputs": [],
   "source": [
    "pln = spacy.load('pt')"
   ]
  },
  {
   "cell_type": "code",
   "execution_count": 14,
   "metadata": {},
   "outputs": [],
   "source": [
    "def preprocessamento(texto):\n",
    "    texto = texto.lower()\n",
    "    documento = pln(texto)\n",
    "  \n",
    "    lista = []\n",
    "    for token in documento:\n",
    "    #lista.append(token.text)\n",
    "        lista.append(token.lemma_)\n",
    "\n",
    "    lista = [palavra for palavra in lista if palavra not in stop_words and palavra not in pontuacoes]\n",
    "    lista = ' '.join([str(elemento) for elemento in lista if not elemento.isdigit()])\n",
    "\n",
    "    return lista"
   ]
  },
  {
   "cell_type": "code",
   "execution_count": 15,
   "metadata": {},
   "outputs": [
    {
     "data": {
      "text/plain": [
       "'aprender processamento linguagem natural cursar curitiba'"
      ]
     },
     "execution_count": 15,
     "metadata": {},
     "output_type": "execute_result"
    }
   ],
   "source": [
    "teste = preprocessamento('Estou aPrendendo 1 10 23 processamento de linguagem natural, Curso em Curitiba')\n",
    "teste"
   ]
  },
  {
   "cell_type": "code",
   "execution_count": 16,
   "metadata": {},
   "outputs": [],
   "source": [
    "base_dados['texto'] = base_dados['texto'].apply(preprocessamento)"
   ]
  },
  {
   "cell_type": "code",
   "execution_count": 17,
   "metadata": {},
   "outputs": [],
   "source": [
    "exemplo_base_dados = [[\"este trabalho é agradável\", {\"ALEGRIA\": True, \"MEDO\": False}],\n",
    "                      [\"este lugar continua assustador\", {\"ALEGRIA\": False, \"MEDO\": True}]]"
   ]
  },
  {
   "cell_type": "code",
   "execution_count": 18,
   "metadata": {},
   "outputs": [
    {
     "data": {
      "text/plain": [
       "['este trabalho é agradável', {'ALEGRIA': True, 'MEDO': False}]"
      ]
     },
     "execution_count": 18,
     "metadata": {},
     "output_type": "execute_result"
    }
   ],
   "source": [
    "exemplo_base_dados[0]"
   ]
  },
  {
   "cell_type": "code",
   "execution_count": 20,
   "metadata": {},
   "outputs": [],
   "source": [
    "base_dados_final = []\n",
    "for texto, emocao in zip(base_dados['texto'], base_dados['emocao']):\n",
    "  #print(texto, emocao)\n",
    "    if emocao == 'alegria':\n",
    "        dic = ({'ALEGRIA': True, 'MEDO': False})\n",
    "    elif emocao == 'medo':\n",
    "        dic = ({'ALEGRIA': False, 'MEDO': True})\n",
    "\n",
    "    base_dados_final.append([texto, dic.copy()])"
   ]
  },
  {
   "cell_type": "code",
   "execution_count": 23,
   "metadata": {},
   "outputs": [
    {
     "data": {
      "text/plain": [
       "[['trabalhar agradável', {'ALEGRIA': True, 'MEDO': False}],\n",
       " ['gostar ficar o aconchegar', {'ALEGRIA': True, 'MEDO': False}],\n",
       " ['o adesão cursar hoje', {'ALEGRIA': True, 'MEDO': False}],\n",
       " ['admirar', {'ALEGRIA': True, 'MEDO': False}],\n",
       " ['adorar comer', {'ALEGRIA': True, 'MEDO': False}],\n",
       " ['adorar cabelar maciar', {'ALEGRIA': True, 'MEDO': False}],\n",
       " ['adorar o cor olho', {'ALEGRIA': True, 'MEDO': False}],\n",
       " ['somar amável o outro', {'ALEGRIA': True, 'MEDO': False}],\n",
       " ['sentir umar afeição', {'ALEGRIA': True, 'MEDO': False}],\n",
       " ['querer agradar filho', {'ALEGRIA': True, 'MEDO': False}]]"
      ]
     },
     "execution_count": 23,
     "metadata": {},
     "output_type": "execute_result"
    }
   ],
   "source": [
    "base_dados_final[0:10]"
   ]
  },
  {
   "cell_type": "code",
   "execution_count": 24,
   "metadata": {},
   "outputs": [],
   "source": [
    "modelo = spacy.blank('pt')"
   ]
  },
  {
   "cell_type": "code",
   "execution_count": 25,
   "metadata": {},
   "outputs": [
    {
     "data": {
      "text/plain": [
       "1"
      ]
     },
     "execution_count": 25,
     "metadata": {},
     "output_type": "execute_result"
    }
   ],
   "source": [
    "categorias = modelo.create_pipe(\"textcat\")\n",
    "categorias.add_label(\"ALEGRIA\")\n",
    "categorias.add_label(\"MEDO\")"
   ]
  },
  {
   "cell_type": "code",
   "execution_count": 26,
   "metadata": {},
   "outputs": [],
   "source": [
    "modelo.add_pipe(categorias)"
   ]
  },
  {
   "cell_type": "code",
   "execution_count": 27,
   "metadata": {},
   "outputs": [
    {
     "name": "stdout",
     "output_type": "stream",
     "text": [
      "{'textcat': 0.006609723495785147}\n",
      "{'textcat': 1.3150488253899084e-07}\n",
      "{'textcat': 3.403133930213187e-08}\n",
      "{'textcat': 1.6079939935131904e-08}\n",
      "{'textcat': 8.689016228746738e-09}\n",
      "{'textcat': 5.23868604052069e-09}\n",
      "{'textcat': 4.232804884374275e-09}\n",
      "{'textcat': 3.95409605058461e-09}\n",
      "{'textcat': 3.131640308184913e-09}\n",
      "{'textcat': 2.9986349098232168e-09}\n"
     ]
    }
   ],
   "source": [
    "historico = []\n",
    "modelo.begin_training()\n",
    "for epoca in range(1000):\n",
    "    random.shuffle(base_dados_final)\n",
    "    losses = {}\n",
    "    for batch in spacy.util.minibatch(base_dados_final, 30):\n",
    "        textos = [modelo(texto) for texto, entities in batch]\n",
    "        annotations = [{'cats': entities} for texto, entities in batch]\n",
    "        modelo.update(textos, annotations, losses=losses)\n",
    "    if epoca % 100 == 0:\n",
    "        print(losses)\n",
    "        historico.append(losses)"
   ]
  },
  {
   "cell_type": "code",
   "execution_count": 29,
   "metadata": {},
   "outputs": [],
   "source": [
    "historico_loss = []\n",
    "for i in historico:\n",
    "    historico_loss.append(i.get('textcat'))"
   ]
  },
  {
   "cell_type": "code",
   "execution_count": 33,
   "metadata": {},
   "outputs": [],
   "source": [
    "historico_loss = np.array(historico_loss)\n",
    "modelo.to_disk(\"modelo\")"
   ]
  },
  {
   "cell_type": "code",
   "execution_count": 34,
   "metadata": {},
   "outputs": [
    {
     "data": {
      "text/plain": [
       "Text(0, 0.5, 'Erro')"
      ]
     },
     "execution_count": 34,
     "metadata": {},
     "output_type": "execute_result"
    },
    {
     "data": {
      "image/png": "[encoded data removed]",
      "text/plain": [
       "<Figure size 432x288 with 1 Axes>"
      ]
     },
     "metadata": {
      "needs_background": "light"
     },
     "output_type": "display_data"
    }
   ],
   "source": [
    "import matplotlib.pyplot as plt\n",
    "plt.plot(historico_loss)\n",
    "plt.title('Progressão do erro')\n",
    "plt.xlabel('Épocas')\n",
    "plt.ylabel('Erro')"
   ]
  },
  {
   "cell_type": "code",
   "execution_count": 35,
   "metadata": {},
   "outputs": [
    {
     "data": {
      "text/plain": [
       "<spacy.lang.pt.Portuguese at 0x7f8e5edefb20>"
      ]
     },
     "execution_count": 35,
     "metadata": {},
     "output_type": "execute_result"
    }
   ],
   "source": [
    "modelo_carregado = spacy.load(\"modelo\")\n",
    "modelo_carregado"
   ]
  },
  {
   "cell_type": "code",
   "execution_count": 41,
   "metadata": {},
   "outputs": [],
   "source": [
    "frase_test = \"Me assustei a noite com algo\"\n",
    "texto = preprocessamento(frase_test)"
   ]
  },
  {
   "cell_type": "code",
   "execution_count": 42,
   "metadata": {},
   "outputs": [],
   "source": [
    "previsao = modelo_carregado(texto)"
   ]
  },
  {
   "cell_type": "code",
   "execution_count": 43,
   "metadata": {},
   "outputs": [
    {
     "data": {
      "text/plain": [
       "{'ALEGRIA': 0.6347335577011108, 'MEDO': 0.19811519980430603}"
      ]
     },
     "execution_count": 43,
     "metadata": {},
     "output_type": "execute_result"
    }
   ],
   "source": [
    "previsao.cats"
   ]
  },
  {
   "cell_type": "code",
   "execution_count": 46,
   "metadata": {},
   "outputs": [
    {
     "data": {
      "text/plain": [
       "{'ALEGRIA': 0.05168084055185318, 'MEDO': 0.9184090495109558}"
      ]
     },
     "execution_count": 46,
     "metadata": {},
     "output_type": "execute_result"
    }
   ],
   "source": [
    "texto_negativo = 'Estou com medo de algo que vi a noite'\n",
    "previsao = modelo_carregado(preprocessamento(texto_negativo))\n",
    "previsao.cats"
   ]
  },
  {
   "cell_type": "code",
   "execution_count": 48,
   "metadata": {},
   "outputs": [],
   "source": [
    "previsoes = []\n",
    "for texto in base_dados['texto']:\n",
    "    previsao = modelo_carregado(texto)\n",
    "    previsoes.append(previsao.cats)"
   ]
  },
  {
   "cell_type": "code",
   "execution_count": 49,
   "metadata": {},
   "outputs": [
    {
     "data": {
      "text/plain": [
       "[{'ALEGRIA': 0.9995748400688171, 'MEDO': 0.00023173213412519544},\n",
       " {'ALEGRIA': 0.9994211196899414, 'MEDO': 0.00019167056598234922},\n",
       " {'ALEGRIA': 0.9995241165161133, 'MEDO': 0.0003127055533695966},\n",
       " {'ALEGRIA': 0.9997450709342957, 'MEDO': 6.525975913973525e-05},\n",
       " {'ALEGRIA': 0.9998975992202759, 'MEDO': 4.539787187241018e-05},\n",
       " {'ALEGRIA': 0.9995951056480408, 'MEDO': 0.0001884620141936466},\n",
       " {'ALEGRIA': 0.9996371269226074, 'MEDO': 0.0003048497892450541},\n",
       " {'ALEGRIA': 0.9997815489768982, 'MEDO': 7.80172340455465e-05},\n",
       " {'ALEGRIA': 0.9998477697372437, 'MEDO': 5.1993349188705906e-05},\n",
       " {'ALEGRIA': 0.9992287158966064, 'MEDO': 0.0003190919233020395},\n",
       " {'ALEGRIA': 0.9997707009315491, 'MEDO': 5.633808905258775e-05},\n",
       " {'ALEGRIA': 0.9999545812606812, 'MEDO': 4.539787187241018e-05},\n",
       " {'ALEGRIA': 0.9998419284820557, 'MEDO': 9.761789260664955e-05},\n",
       " {'ALEGRIA': 0.9993565678596497, 'MEDO': 0.0002798924397211522},\n",
       " {'ALEGRIA': 0.9984184503555298, 'MEDO': 0.00045701523777097464},\n",
       " {'ALEGRIA': 0.9998911619186401, 'MEDO': 8.109366899589077e-05},\n",
       " {'ALEGRIA': 0.9998618364334106, 'MEDO': 4.539787187241018e-05},\n",
       " {'ALEGRIA': 0.9999325275421143, 'MEDO': 4.539787187241018e-05},\n",
       " {'ALEGRIA': 0.9998101592063904, 'MEDO': 6.351540650939569e-05},\n",
       " {'ALEGRIA': 0.9996148347854614, 'MEDO': 0.00019034833530895412},\n",
       " {'ALEGRIA': 0.9999431371688843, 'MEDO': 4.539787187241018e-05},\n",
       " {'ALEGRIA': 0.9996764659881592, 'MEDO': 0.00010675472731236368},\n",
       " {'ALEGRIA': 0.9995012283325195, 'MEDO': 0.0002522641443647444},\n",
       " {'ALEGRIA': 0.9997838139533997, 'MEDO': 6.613628647755831e-05},\n",
       " {'ALEGRIA': 0.9993096590042114, 'MEDO': 0.0002364778338233009},\n",
       " {'ALEGRIA': 0.9996529817581177, 'MEDO': 0.00013676899834536016},\n",
       " {'ALEGRIA': 0.9995566010475159, 'MEDO': 0.00015595425793435425},\n",
       " {'ALEGRIA': 0.9998010993003845, 'MEDO': 6.486094935098663e-05},\n",
       " {'ALEGRIA': 0.9996929168701172, 'MEDO': 4.596882718033157e-05},\n",
       " {'ALEGRIA': 0.9999179840087891, 'MEDO': 4.539787187241018e-05},\n",
       " {'ALEGRIA': 0.9997319579124451, 'MEDO': 0.0001161626641987823},\n",
       " {'ALEGRIA': 0.9991987347602844, 'MEDO': 0.000258783926256001},\n",
       " {'ALEGRIA': 0.9997404217720032, 'MEDO': 0.0001188814640045166},\n",
       " {'ALEGRIA': 0.9996147155761719, 'MEDO': 0.00046189065324142575},\n",
       " {'ALEGRIA': 0.9996623992919922, 'MEDO': 4.539787187241018e-05},\n",
       " {'ALEGRIA': 0.9999268054962158, 'MEDO': 4.539787187241018e-05},\n",
       " {'ALEGRIA': 0.9996980428695679, 'MEDO': 8.723031351109967e-05},\n",
       " {'ALEGRIA': 0.9995284080505371, 'MEDO': 0.00022810092195868492},\n",
       " {'ALEGRIA': 0.9996459484100342, 'MEDO': 0.00014197164273355156},\n",
       " {'ALEGRIA': 0.9995101690292358, 'MEDO': 0.00030913043883629143},\n",
       " {'ALEGRIA': 0.9999244213104248, 'MEDO': 0.0001153261837316677},\n",
       " {'ALEGRIA': 0.9993863105773926, 'MEDO': 0.00016279956616926938},\n",
       " {'ALEGRIA': 0.9999145269393921, 'MEDO': 4.539787187241018e-05},\n",
       " {'ALEGRIA': 0.9997318387031555, 'MEDO': 0.00019125797552987933},\n",
       " {'ALEGRIA': 0.9994175434112549, 'MEDO': 0.00031371242948807776},\n",
       " {'ALEGRIA': 0.9997565150260925, 'MEDO': 0.00016013837011996657},\n",
       " {'ALEGRIA': 0.9997528195381165, 'MEDO': 4.8547630285611376e-05},\n",
       " {'ALEGRIA': 0.9993870258331299, 'MEDO': 4.539787187241018e-05},\n",
       " {'ALEGRIA': 0.999360978603363, 'MEDO': 0.00044648555922321975},\n",
       " {'ALEGRIA': 0.9997254014015198, 'MEDO': 0.00012919485743623227},\n",
       " {'ALEGRIA': 0.9992293119430542, 'MEDO': 7.058021583361551e-05},\n",
       " {'ALEGRIA': 0.9995853304862976, 'MEDO': 0.00017724739154800773},\n",
       " {'ALEGRIA': 0.99941086769104, 'MEDO': 0.0002775346511043608},\n",
       " {'ALEGRIA': 0.9997022747993469, 'MEDO': 6.880740693304688e-05},\n",
       " {'ALEGRIA': 0.9995242357254028, 'MEDO': 0.00038296583807095885},\n",
       " {'ALEGRIA': 0.9994003772735596, 'MEDO': 0.0003254662442486733},\n",
       " {'ALEGRIA': 0.9998418092727661, 'MEDO': 5.692875856766477e-05},\n",
       " {'ALEGRIA': 0.9997953772544861, 'MEDO': 4.539787187241018e-05},\n",
       " {'ALEGRIA': 0.9998124241828918, 'MEDO': 4.539787187241018e-05},\n",
       " {'ALEGRIA': 0.9997475743293762, 'MEDO': 4.8629877710482106e-05},\n",
       " {'ALEGRIA': 0.9996041655540466, 'MEDO': 0.0003321539843454957},\n",
       " {'ALEGRIA': 0.9998481273651123, 'MEDO': 5.117944965604693e-05},\n",
       " {'ALEGRIA': 0.9995272159576416, 'MEDO': 0.00012343470007181168},\n",
       " {'ALEGRIA': 0.9997023940086365, 'MEDO': 0.0002200156741309911},\n",
       " {'ALEGRIA': 0.9998877048492432, 'MEDO': 7.209975592559204e-05},\n",
       " {'ALEGRIA': 0.9992043375968933, 'MEDO': 0.00020318834867794067},\n",
       " {'ALEGRIA': 0.9997897744178772, 'MEDO': 5.607502316706814e-05},\n",
       " {'ALEGRIA': 0.9994900226593018, 'MEDO': 0.00024244771338999271},\n",
       " {'ALEGRIA': 0.9998989105224609, 'MEDO': 7.615300273755565e-05},\n",
       " {'ALEGRIA': 0.9999053478240967, 'MEDO': 4.539787187241018e-05},\n",
       " {'ALEGRIA': 0.9998045563697815, 'MEDO': 8.027441072044894e-05},\n",
       " {'ALEGRIA': 0.9994890689849854, 'MEDO': 0.00011777895269915462},\n",
       " {'ALEGRIA': 0.9987447261810303, 'MEDO': 0.0006956545985303819},\n",
       " {'ALEGRIA': 0.9997096657752991, 'MEDO': 0.00019075260206591338},\n",
       " {'ALEGRIA': 0.9998760223388672, 'MEDO': 4.539787187241018e-05},\n",
       " {'ALEGRIA': 0.9993151426315308, 'MEDO': 0.00014513406495098025},\n",
       " {'ALEGRIA': 0.9998801946640015, 'MEDO': 4.539787187241018e-05},\n",
       " {'ALEGRIA': 0.9995504021644592, 'MEDO': 0.00036480629933066666},\n",
       " {'ALEGRIA': 0.9999536275863647, 'MEDO': 4.539787187241018e-05},\n",
       " {'ALEGRIA': 0.9994168281555176, 'MEDO': 0.00020670096273534},\n",
       " {'ALEGRIA': 0.9996621608734131, 'MEDO': 0.00010568483412498608},\n",
       " {'ALEGRIA': 0.9998509883880615, 'MEDO': 4.539787187241018e-05},\n",
       " {'ALEGRIA': 0.9996223449707031, 'MEDO': 6.449723150581121e-05},\n",
       " {'ALEGRIA': 0.9994027614593506, 'MEDO': 0.0001615136134205386},\n",
       " {'ALEGRIA': 0.9996368885040283, 'MEDO': 5.228845839155838e-05},\n",
       " {'ALEGRIA': 0.999805748462677, 'MEDO': 7.968022691784427e-05},\n",
       " {'ALEGRIA': 0.99945467710495, 'MEDO': 0.00012453788076527417},\n",
       " {'ALEGRIA': 0.9996894598007202, 'MEDO': 0.00019497833272907883},\n",
       " {'ALEGRIA': 0.9994532465934753, 'MEDO': 0.0001267214393010363},\n",
       " {'ALEGRIA': 0.9994290471076965, 'MEDO': 0.00017651979578658938},\n",
       " {'ALEGRIA': 0.9996758699417114, 'MEDO': 0.00019207928562536836},\n",
       " {'ALEGRIA': 0.9997784495353699, 'MEDO': 0.0001725679321680218},\n",
       " {'ALEGRIA': 0.9993109703063965, 'MEDO': 0.00017001792730297893},\n",
       " {'ALEGRIA': 0.9997439980506897, 'MEDO': 9.83658101176843e-05},\n",
       " {'ALEGRIA': 0.9996951818466187, 'MEDO': 0.00010521383956074715},\n",
       " {'ALEGRIA': 0.9996411800384521, 'MEDO': 0.00016859729657880962},\n",
       " {'ALEGRIA': 0.9997360110282898, 'MEDO': 0.0002576856059022248},\n",
       " {'ALEGRIA': 0.9995155334472656, 'MEDO': 0.00011138138506794348},\n",
       " {'ALEGRIA': 0.9996844530105591, 'MEDO': 7.345749327214435e-05},\n",
       " {'ALEGRIA': 0.9998175501823425, 'MEDO': 4.539787187241018e-05},\n",
       " {'ALEGRIA': 0.9995238780975342, 'MEDO': 4.539787187241018e-05},\n",
       " {'ALEGRIA': 0.9999316930770874, 'MEDO': 4.539787187241018e-05},\n",
       " {'ALEGRIA': 0.9999188184738159, 'MEDO': 4.539787187241018e-05},\n",
       " {'ALEGRIA': 0.9998866319656372, 'MEDO': 5.180216976441443e-05},\n",
       " {'ALEGRIA': 0.9998093247413635, 'MEDO': 5.160317596164532e-05},\n",
       " {'ALEGRIA': 0.9997673630714417, 'MEDO': 0.00013448219397105277},\n",
       " {'ALEGRIA': 0.9995334148406982, 'MEDO': 5.379426511353813e-05},\n",
       " {'ALEGRIA': 0.9995587468147278, 'MEDO': 0.0004405926156323403},\n",
       " {'ALEGRIA': 0.9995669722557068, 'MEDO': 8.303511276608333e-05},\n",
       " {'ALEGRIA': 0.9995085000991821, 'MEDO': 0.0002446747093927115},\n",
       " {'ALEGRIA': 0.9993102550506592, 'MEDO': 0.00037524267099797726},\n",
       " {'ALEGRIA': 0.9993451237678528, 'MEDO': 0.00015097354480531067},\n",
       " {'ALEGRIA': 0.000193776999367401, 'MEDO': 0.9999476671218872},\n",
       " {'ALEGRIA': 0.00013639352982863784, 'MEDO': 0.9999545812606812},\n",
       " {'ALEGRIA': 0.000374403694877401, 'MEDO': 0.9996258020401001},\n",
       " {'ALEGRIA': 0.00022950692800804973, 'MEDO': 0.999906063079834},\n",
       " {'ALEGRIA': 0.00046652930905111134, 'MEDO': 0.9998061060905457},\n",
       " {'ALEGRIA': 0.0005847440916113555, 'MEDO': 0.9999070167541504},\n",
       " {'ALEGRIA': 0.00023450981825590134, 'MEDO': 0.999909520149231},\n",
       " {'ALEGRIA': 0.0006177532486617565, 'MEDO': 0.9998012185096741},\n",
       " {'ALEGRIA': 0.0005196722922846675, 'MEDO': 0.9999532699584961},\n",
       " {'ALEGRIA': 0.0002748286060523242, 'MEDO': 0.9998898506164551},\n",
       " {'ALEGRIA': 0.0005578207783401012, 'MEDO': 0.9996039271354675},\n",
       " {'ALEGRIA': 0.000423339573899284, 'MEDO': 0.9997796416282654},\n",
       " {'ALEGRIA': 0.00025078022736124694, 'MEDO': 0.9999253749847412},\n",
       " {'ALEGRIA': 0.00033291548606939614, 'MEDO': 0.9998264908790588},\n",
       " {'ALEGRIA': 0.00039874869980849326, 'MEDO': 0.999767005443573},\n",
       " {'ALEGRIA': 0.0002667832013685256, 'MEDO': 0.9996963739395142},\n",
       " {'ALEGRIA': 0.0004260234709363431, 'MEDO': 0.9997617602348328},\n",
       " {'ALEGRIA': 7.216076483018696e-05, 'MEDO': 0.9999496936798096},\n",
       " {'ALEGRIA': 0.00037167483242228627, 'MEDO': 0.9998143315315247},\n",
       " {'ALEGRIA': 0.00029117928352206945, 'MEDO': 0.9999011754989624},\n",
       " {'ALEGRIA': 0.0006984054343774915, 'MEDO': 0.9998375177383423},\n",
       " {'ALEGRIA': 8.811878797132522e-05, 'MEDO': 0.9999545812606812},\n",
       " {'ALEGRIA': 0.0004679728881455958, 'MEDO': 0.9998239874839783},\n",
       " {'ALEGRIA': 0.0003500484162941575, 'MEDO': 0.9998167157173157},\n",
       " {'ALEGRIA': 0.0003480101877357811, 'MEDO': 0.999860405921936},\n",
       " {'ALEGRIA': 0.00013904945808462799, 'MEDO': 0.9999319314956665},\n",
       " {'ALEGRIA': 0.0003656675689853728, 'MEDO': 0.9998358488082886},\n",
       " {'ALEGRIA': 0.00047951890155673027, 'MEDO': 0.9998014569282532},\n",
       " {'ALEGRIA': 0.00013660320837516338, 'MEDO': 0.9998992681503296},\n",
       " {'ALEGRIA': 0.0005524760344997048, 'MEDO': 0.9996774196624756},\n",
       " {'ALEGRIA': 4.539787187241018e-05, 'MEDO': 0.9999545812606812},\n",
       " {'ALEGRIA': 0.00041281874291598797, 'MEDO': 0.9998886585235596},\n",
       " {'ALEGRIA': 0.00023463417892344296, 'MEDO': 0.9999053478240967},\n",
       " {'ALEGRIA': 0.0005468972376547754, 'MEDO': 0.9998704195022583},\n",
       " {'ALEGRIA': 0.00047105670091696084, 'MEDO': 0.9998471736907959},\n",
       " {'ALEGRIA': 0.0002298099861945957, 'MEDO': 0.9999191761016846},\n",
       " {'ALEGRIA': 0.00038932799361646175, 'MEDO': 0.9998337030410767},\n",
       " {'ALEGRIA': 0.00011130069469800219, 'MEDO': 0.9999545812606812},\n",
       " {'ALEGRIA': 0.0005481233238242567, 'MEDO': 0.9998970031738281},\n",
       " {'ALEGRIA': 0.0005656313733197749, 'MEDO': 0.9998050332069397},\n",
       " {'ALEGRIA': 0.0008459967793896794, 'MEDO': 0.999640941619873},\n",
       " {'ALEGRIA': 0.0005659166490659118, 'MEDO': 0.9999129772186279},\n",
       " {'ALEGRIA': 0.0006661989609710872, 'MEDO': 0.9996984004974365},\n",
       " {'ALEGRIA': 0.0001043342417688109, 'MEDO': 0.9999439716339111},\n",
       " {'ALEGRIA': 0.0005962458089925349, 'MEDO': 0.9997945427894592},\n",
       " {'ALEGRIA': 0.0002626604400575161, 'MEDO': 0.9999545812606812},\n",
       " {'ALEGRIA': 0.000469856197014451, 'MEDO': 0.9997779726982117},\n",
       " {'ALEGRIA': 0.0010136169148609042, 'MEDO': 0.9997135996818542},\n",
       " {'ALEGRIA': 0.00029811987769789994, 'MEDO': 0.9997125267982483},\n",
       " {'ALEGRIA': 0.0004634598735719919, 'MEDO': 0.9996979236602783},\n",
       " {'ALEGRIA': 0.00016654237697366625, 'MEDO': 0.999894380569458},\n",
       " {'ALEGRIA': 0.0001321152813034132, 'MEDO': 0.9999545812606812},\n",
       " {'ALEGRIA': 0.0006583657232113183, 'MEDO': 0.9997312426567078},\n",
       " {'ALEGRIA': 0.0005130023346282542, 'MEDO': 0.9998877048492432},\n",
       " {'ALEGRIA': 0.00040162939694710076, 'MEDO': 0.9999146461486816},\n",
       " {'ALEGRIA': 0.0005937987007200718, 'MEDO': 0.9997580647468567},\n",
       " {'ALEGRIA': 0.0002731158456299454, 'MEDO': 0.9999343156814575},\n",
       " {'ALEGRIA': 0.0001175031065940857, 'MEDO': 0.9998606443405151},\n",
       " {'ALEGRIA': 0.0006751877954229712, 'MEDO': 0.99967360496521},\n",
       " {'ALEGRIA': 0.00036842821282334626, 'MEDO': 0.9998388290405273},\n",
       " {'ALEGRIA': 0.0003409527416806668, 'MEDO': 0.9997860789299011},\n",
       " {'ALEGRIA': 0.0002616007986944169, 'MEDO': 0.9999227523803711},\n",
       " {'ALEGRIA': 0.00047295272815972567, 'MEDO': 0.999842643737793},\n",
       " {'ALEGRIA': 0.00035583885619416833, 'MEDO': 0.9997614026069641},\n",
       " {'ALEGRIA': 0.0004970725276507437, 'MEDO': 0.9997052550315857},\n",
       " {'ALEGRIA': 0.001156628830358386, 'MEDO': 0.9994927644729614},\n",
       " {'ALEGRIA': 0.00048738671466708183, 'MEDO': 0.9996932744979858},\n",
       " {'ALEGRIA': 0.00041215383680537343, 'MEDO': 0.9998446702957153},\n",
       " {'ALEGRIA': 0.00039556517731398344, 'MEDO': 0.9998328685760498},\n",
       " {'ALEGRIA': 0.0004703186568804085, 'MEDO': 0.9996393918991089},\n",
       " {'ALEGRIA': 0.0004996659699827433, 'MEDO': 0.9996191263198853},\n",
       " {'ALEGRIA': 0.0004923095111735165, 'MEDO': 0.9997486472129822},\n",
       " {'ALEGRIA': 0.0002496749220881611, 'MEDO': 0.9999488592147827},\n",
       " {'ALEGRIA': 0.000544577487744391, 'MEDO': 0.9997286200523376},\n",
       " {'ALEGRIA': 0.00036927880137227476, 'MEDO': 0.9999077320098877},\n",
       " {'ALEGRIA': 0.0001772587129380554, 'MEDO': 0.9999126195907593},\n",
       " {'ALEGRIA': 0.000519758730661124, 'MEDO': 0.9998663663864136},\n",
       " {'ALEGRIA': 7.568560977233574e-05, 'MEDO': 0.9999504089355469},\n",
       " {'ALEGRIA': 0.0001809606037568301, 'MEDO': 0.9999488592147827},\n",
       " {'ALEGRIA': 0.0007823283085599542, 'MEDO': 0.9996998310089111},\n",
       " {'ALEGRIA': 0.0002229148376500234, 'MEDO': 0.999944806098938},\n",
       " {'ALEGRIA': 0.0005633801920339465, 'MEDO': 0.9998156428337097},\n",
       " {'ALEGRIA': 0.001135158003307879, 'MEDO': 0.9994727969169617},\n",
       " {'ALEGRIA': 0.0004433310532476753, 'MEDO': 0.9998255372047424}]"
      ]
     },
     "execution_count": 49,
     "metadata": {},
     "output_type": "execute_result"
    }
   ],
   "source": [
    "previsoes"
   ]
  },
  {
   "cell_type": "code",
   "execution_count": 50,
   "metadata": {},
   "outputs": [],
   "source": [
    "previsoes_final = []\n",
    "for previsao in previsoes:\n",
    "    if previsao['ALEGRIA'] > previsao['MEDO']:\n",
    "        previsoes_final.append('alegria')\n",
    "    else:\n",
    "        previsoes_final.append('medo')\n",
    "\n",
    "previsoes_final = np.array(previsoes_final)"
   ]
  },
  {
   "cell_type": "code",
   "execution_count": 51,
   "metadata": {},
   "outputs": [],
   "source": [
    "respostas_reais = base_dados['emocao'].values"
   ]
  },
  {
   "cell_type": "code",
   "execution_count": 52,
   "metadata": {},
   "outputs": [
    {
     "data": {
      "text/plain": [
       "1.0"
      ]
     },
     "execution_count": 52,
     "metadata": {},
     "output_type": "execute_result"
    }
   ],
   "source": [
    "from sklearn.metrics import confusion_matrix, accuracy_score\n",
    "accuracy_score(respostas_reais, previsoes_final)"
   ]
  }
 ],
 "metadata": {
  "kernelspec": {
   "display_name": "Python 3",
   "language": "python",
   "name": "python3"
  },
  "language_info": {
   "codemirror_mode": {
    "name": "ipython",
    "version": 3
   },
   "file_extension": ".py",
   "mimetype": "text/x-python",
   "name": "python",
   "nbconvert_exporter": "python",
   "pygments_lexer": "ipython3",
   "version": "3.8.5"
  }
 },
 "nbformat": 4,
 "nbformat_minor": 4
}
